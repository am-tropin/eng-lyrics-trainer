{
 "cells": [
  {
   "cell_type": "code",
   "execution_count": 13,
   "id": "6a5b7335",
   "metadata": {},
   "outputs": [],
   "source": [
    "import os\n",
    "import re\n",
    "import pandas as pd"
   ]
  },
  {
   "cell_type": "code",
   "execution_count": 8,
   "id": "292a7567",
   "metadata": {},
   "outputs": [],
   "source": [
    "# printing a list of titles in lexicographic order with division by the first letter\n",
    "\n",
    "def print_lexic_order_with_first_letter(list_list):\n",
    "    list_list = sorted(list_list)\n",
    "    first_letter = ''\n",
    "    for s in list_list:\n",
    "        if s[0] != first_letter:\n",
    "            first_letter = s[0]\n",
    "            print()\n",
    "            print(str.upper(first_letter))\n",
    "        print(s)\n",
    "    return 1"
   ]
  },
  {
   "cell_type": "markdown",
   "id": "208da6d3",
   "metadata": {},
   "source": [
    "# 1. To list all artist and their songs"
   ]
  },
  {
   "cell_type": "code",
   "execution_count": 60,
   "id": "577c2ad5",
   "metadata": {},
   "outputs": [],
   "source": [
    "'''\n",
    "To view the collection\n",
    "'''\n",
    "\n",
    "path = \"discography/\"\n",
    "dir_list = os.listdir(path)\n",
    "artist_list = [re.sub(\"_discography_allthelyrics.csv\", \"\", d) for d in dir_list if \"_discography_allthelyrics.csv\" in d]\n",
    "\n",
    "# print_lexic_order_with_first_letter(artist_list)\n"
   ]
  },
  {
   "cell_type": "code",
   "execution_count": null,
   "id": "43cc32e0",
   "metadata": {},
   "outputs": [],
   "source": []
  },
  {
   "cell_type": "code",
   "execution_count": 61,
   "id": "2d328b49",
   "metadata": {},
   "outputs": [],
   "source": [
    "'''\n",
    "Enter the signal word (in lower case)\n",
    "'''\n",
    "\n",
    "# target_word = r\"yet\"\n",
    "target_word = r\"haven't\""
   ]
  },
  {
   "cell_type": "code",
   "execution_count": null,
   "id": "c8a2f26e",
   "metadata": {},
   "outputs": [],
   "source": []
  },
  {
   "cell_type": "code",
   "execution_count": null,
   "id": "bc8386f1",
   "metadata": {},
   "outputs": [],
   "source": [
    "'''\n",
    "NB!\n",
    "the search below - just for a substring, not a separate word! \n",
    "because it's more useful for phrases\n",
    "'''"
   ]
  },
  {
   "cell_type": "code",
   "execution_count": 24,
   "id": "f5950d12",
   "metadata": {},
   "outputs": [],
   "source": [
    "# target_dict = {}\n",
    "\n",
    "# for artist in artist_list:\n",
    "#     discography_df = pd.read_csv('discography/' + artist + '_discography_allthelyrics.csv', sep='\\t', encoding='utf-8')\n",
    "#     mask = discography_df[\"lyrics\"].str.contains(target_word, na=True)\n",
    "#     if len(discography_df.loc[mask, 'song']) > 0:\n",
    "#         target_dict[artist] = list(discography_df.loc[mask, 'song'])\n",
    "\n",
    "# target_dict\n",
    "    "
   ]
  },
  {
   "cell_type": "code",
   "execution_count": 70,
   "id": "8f4651cf",
   "metadata": {},
   "outputs": [
    {
     "data": {
      "text/plain": [
       "{'guns_n_roses': [{'Anything Goes': [\"That I haven't had yet\"]},\n",
       "  {'My Michelle': [\"Case you haven't heard\"]},\n",
       "  {'New Rose': [\"I haven't met her, maybe too late\"]},\n",
       "  {'You Could Be Mine': [\"An you haven't grown up yet\"]}],\n",
       " 'queen': [{'Hang On In There': [\"Don't be a fool you haven't reached your peak\"]},\n",
       "  {\"I'm Going Slightly Mad\": [\"To be honest you haven't got a clue\"]},\n",
       "  {'Nevermore': [\"Were so warm and tender, Now haven't anything to grow\"]}],\n",
       " 'roxette': [{'Como La Lluvia En El Cristal': [\"I haven't got room for a broken heart.\"]},\n",
       "  {'Make My Head Go Pop': [\"I haven't got a clue what is wrong, what is right, what is left to do\"]},\n",
       "  {'You Turn Me On': [\"Guess I haven't been around\"]}],\n",
       " 'bob_dylan': [{'Ballad In Plain D': [\"The words to say I'm sorry, I haven't found yet\"]},\n",
       "  {'Death Is Not The End': [\"And you haven't got a friend\"]},\n",
       "  {'Highlands': ['haven\\'t you looked?\"']},\n",
       "  {'Idiot Wind': [\"I haven't known peace and quiet for so long I can't remember what it's like.\"]},\n",
       "  {'Make You Feel My Love': [\"I know you haven't made your mind up yet\"]},\n",
       "  {'Orange Juice Blues': [\"You haven't been right with me, why don't you get right?\"]},\n",
       "  {'Orange Juice Blues (Blues For Breakfast)': [\"You haven't been right with me, why don't you get right?\"]},\n",
       "  {'Tight Connection To My Heart (Has Anybody Seen My Love)': [\"And we haven't even started yet\"]},\n",
       "  {'Wedding Song': [\"I love you more than ever and I haven't yet begun.\"]}],\n",
       " 'within_temptation': [{'Dark Wings': [\"You haven't made your peace\"]},\n",
       "  {'Our Solemn Hour': [\"And we haven't learned\"]}],\n",
       " 'depeche_mode': [{'A Photograph Of You': [\"But then again I haven't the guts\"]},\n",
       "  {'But Not Tonight': [\"And I haven't felt so alive\"]},\n",
       "  {'Freelove': [\"No I haven't been getting anywhere\",\n",
       "    \"And I haven't been getting anywhere\"]},\n",
       "  {'Get The Balance Right': [\"You haven't got a hold at all\"]}],\n",
       " 'blondie': [{'Fan Mail': [\"I haven't ate in days\",\n",
       "    \"And I haven't slept in days and days, days and days\"]},\n",
       "  {'Now I Know You Know': [\"I've said that my music will play second love to none, but you haven't learned to love yourself, you had to be the only one.\"]}],\n",
       " 'dio': [{'The Man Who Would Be King': [\"I've been so busy killing, I haven't found the time\"]}],\n",
       " 'u2': [{\"11 O'Clock Tick Tock\": [\"And I know we haven't long\"]},\n",
       "  {\"11 O'clock Tick Tock (Live From Boston 1981)\": [\"A painted face and I know we haven't long\"]},\n",
       "  {\"I Still Haven't Found What I'm Looking For\": [\"But I still haven't found what I'm looking for\"]},\n",
       "  {'Last Night On Earth (Live From Mexico City)': [\"We haven't been to bed in a week\"]},\n",
       "  {'Miracle Drug': [\"To hear the things you haven't said\"]},\n",
       "  {'Stuck In A Moment': [\"That I haven't already heard\"]},\n",
       "  {\"Stuck In A Moment You Can't Get Out Of\": [\"That I haven't already heard\"]},\n",
       "  {\"Stuck In A Moment You Can't Get Out Of (Accoustic Version)\": [\"That I haven't already heard\"]}]}"
      ]
     },
     "execution_count": 70,
     "metadata": {},
     "output_type": "execute_result"
    }
   ],
   "source": [
    "target_dict_full = {}\n",
    "\n",
    "for artist in artist_list:\n",
    "#     print()\n",
    "#     print(artist)\n",
    "    discography_df = pd.read_csv('discography/' + artist + '_discography_allthelyrics.csv', sep='\\t', encoding='utf-8')\n",
    "    mask = discography_df[\"lyrics\"].str.contains(target_word, na=True)\n",
    "    if len(discography_df.loc[mask, 'song']) > 0:\n",
    "        song_list = list(discography_df.loc[mask, 'song'])\n",
    "        target_dict_full[artist] = song_list\n",
    "        for song in song_list:\n",
    "#             print(song)\n",
    "            string_list = list(discography_df[discography_df[\"song\"] == song][\"lyrics\"].apply(lambda x: x.split('\\n')))\n",
    "            target_string_list = [s for s in string_list[0] if re.findall(target_word, str.lower(s))] # target_word in s\n",
    "#             to drop duplicates\n",
    "            target_string_list = list(set(target_string_list))\n",
    "            i = target_dict_full[artist].index(song)\n",
    "            target_dict_full[artist] = target_dict_full[artist][:i]+[{song: target_string_list}]+target_dict_full[artist][i+1:]\n",
    "        \n",
    "target_dict_full\n"
   ]
  },
  {
   "cell_type": "code",
   "execution_count": null,
   "id": "b21e3ae8",
   "metadata": {},
   "outputs": [],
   "source": []
  },
  {
   "cell_type": "code",
   "execution_count": null,
   "id": "a287e08e",
   "metadata": {},
   "outputs": [],
   "source": [
    "# nice to convert in dataframe"
   ]
  },
  {
   "cell_type": "code",
   "execution_count": null,
   "id": "1be7d679",
   "metadata": {},
   "outputs": [],
   "source": []
  },
  {
   "cell_type": "code",
   "execution_count": 71,
   "id": "8ae70f26",
   "metadata": {},
   "outputs": [
    {
     "name": "stdout",
     "output_type": "stream",
     "text": [
      "\n",
      "guns_n_roses:\n",
      "- Anything Goes:\n",
      "\t\tThat I haven't had yet\n",
      "- My Michelle:\n",
      "\t\tCase you haven't heard\n",
      "- New Rose:\n",
      "\t\tI haven't met her, maybe too late\n",
      "- You Could Be Mine:\n",
      "\t\tAn you haven't grown up yet\n",
      "\n",
      "queen:\n",
      "- Hang On In There:\n",
      "\t\tDon't be a fool you haven't reached your peak\n",
      "- I'm Going Slightly Mad:\n",
      "\t\tTo be honest you haven't got a clue\n",
      "- Nevermore:\n",
      "\t\tWere so warm and tender, Now haven't anything to grow\n",
      "\n",
      "roxette:\n",
      "- Como La Lluvia En El Cristal:\n",
      "\t\tI haven't got room for a broken heart.\n",
      "- Make My Head Go Pop:\n",
      "\t\tI haven't got a clue what is wrong, what is right, what is left to do\n",
      "- You Turn Me On:\n",
      "\t\tGuess I haven't been around\n",
      "\n",
      "bob_dylan:\n",
      "- Ballad In Plain D:\n",
      "\t\tThe words to say I'm sorry, I haven't found yet\n",
      "- Death Is Not The End:\n",
      "\t\tAnd you haven't got a friend\n",
      "- Highlands:\n",
      "\t\thaven't you looked?\"\n",
      "- Idiot Wind:\n",
      "\t\tI haven't known peace and quiet for so long I can't remember what it's like.\n",
      "- Make You Feel My Love:\n",
      "\t\tI know you haven't made your mind up yet\n",
      "- Orange Juice Blues:\n",
      "\t\tYou haven't been right with me, why don't you get right?\n",
      "- Orange Juice Blues (Blues For Breakfast):\n",
      "\t\tYou haven't been right with me, why don't you get right?\n",
      "- Tight Connection To My Heart (Has Anybody Seen My Love):\n",
      "\t\tAnd we haven't even started yet\n",
      "- Wedding Song:\n",
      "\t\tI love you more than ever and I haven't yet begun.\n",
      "\n",
      "within_temptation:\n",
      "- Dark Wings:\n",
      "\t\tYou haven't made your peace\n",
      "- Our Solemn Hour:\n",
      "\t\tAnd we haven't learned\n",
      "\n",
      "depeche_mode:\n",
      "- A Photograph Of You:\n",
      "\t\tBut then again I haven't the guts\n",
      "- But Not Tonight:\n",
      "\t\tAnd I haven't felt so alive\n",
      "- Freelove:\n",
      "\t\tNo I haven't been getting anywhere\n",
      "\t\tAnd I haven't been getting anywhere\n",
      "- Get The Balance Right:\n",
      "\t\tYou haven't got a hold at all\n",
      "\n",
      "blondie:\n",
      "- Fan Mail:\n",
      "\t\tI haven't ate in days\n",
      "\t\tAnd I haven't slept in days and days, days and days\n",
      "- Now I Know You Know:\n",
      "\t\tI've said that my music will play second love to none, but you haven't learned to love yourself, you had to be the only one.\n",
      "\n",
      "dio:\n",
      "- The Man Who Would Be King:\n",
      "\t\tI've been so busy killing, I haven't found the time\n",
      "\n",
      "u2:\n",
      "- 11 O'Clock Tick Tock:\n",
      "\t\tAnd I know we haven't long\n",
      "- 11 O'clock Tick Tock (Live From Boston 1981):\n",
      "\t\tA painted face and I know we haven't long\n",
      "- I Still Haven't Found What I'm Looking For:\n",
      "\t\tBut I still haven't found what I'm looking for\n",
      "- Last Night On Earth (Live From Mexico City):\n",
      "\t\tWe haven't been to bed in a week\n",
      "- Miracle Drug:\n",
      "\t\tTo hear the things you haven't said\n",
      "- Stuck In A Moment:\n",
      "\t\tThat I haven't already heard\n",
      "- Stuck In A Moment You Can't Get Out Of:\n",
      "\t\tThat I haven't already heard\n",
      "- Stuck In A Moment You Can't Get Out Of (Accoustic Version):\n",
      "\t\tThat I haven't already heard\n"
     ]
    }
   ],
   "source": [
    "for artist in target_dict_full.keys():\n",
    "    print()\n",
    "    print(artist + \":\")\n",
    "    for d in target_dict_full[artist]:\n",
    "        for key in d.keys():\n",
    "            print(\"- \" + key + \":\")\n",
    "            for string in d[key]:\n",
    "                print(\"\\t\\t\" + string)"
   ]
  },
  {
   "cell_type": "code",
   "execution_count": null,
   "id": "ad8f9f2f",
   "metadata": {},
   "outputs": [],
   "source": []
  },
  {
   "cell_type": "code",
   "execution_count": null,
   "id": "c5c5147e",
   "metadata": {},
   "outputs": [],
   "source": []
  }
 ],
 "metadata": {
  "kernelspec": {
   "display_name": "Python 3 (ipykernel)",
   "language": "python",
   "name": "python3"
  },
  "language_info": {
   "codemirror_mode": {
    "name": "ipython",
    "version": 3
   },
   "file_extension": ".py",
   "mimetype": "text/x-python",
   "name": "python",
   "nbconvert_exporter": "python",
   "pygments_lexer": "ipython3",
   "version": "3.11.1"
  }
 },
 "nbformat": 4,
 "nbformat_minor": 5
}
