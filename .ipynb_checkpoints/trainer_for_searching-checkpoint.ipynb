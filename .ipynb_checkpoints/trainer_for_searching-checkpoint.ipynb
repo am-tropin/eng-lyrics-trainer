{
 "cells": [
  {
   "cell_type": "code",
   "execution_count": 13,
   "id": "8ec41aa2",
   "metadata": {},
   "outputs": [],
   "source": [
    "import os\n",
    "import re\n",
    "import pandas as pd"
   ]
  },
  {
   "cell_type": "code",
   "execution_count": 8,
   "id": "09b19c7c",
   "metadata": {},
   "outputs": [],
   "source": [
    "# printing a list of titles in lexicographic order with division by the first letter\n",
    "\n",
    "def print_lexic_order_with_first_letter(list_list):\n",
    "    list_list = sorted(list_list)\n",
    "    first_letter = ''\n",
    "    for s in list_list:\n",
    "        if s[0] != first_letter:\n",
    "            first_letter = s[0]\n",
    "            print()\n",
    "            print(str.upper(first_letter))\n",
    "        print(s)\n",
    "    return 1"
   ]
  },
  {
   "cell_type": "markdown",
   "id": "a9d4d2c3",
   "metadata": {},
   "source": [
    "# 1. To list all artist and their songs"
   ]
  },
  {
   "cell_type": "code",
   "execution_count": 10,
   "id": "27fd86cd",
   "metadata": {},
   "outputs": [
    {
     "name": "stdout",
     "output_type": "stream",
     "text": [
      "\n",
      "B\n",
      "black_sabbath\n",
      "blondie\n",
      "bob_dylan\n",
      "\n",
      "D\n",
      "depeche_mode\n",
      "dio\n",
      "doors\n",
      "\n",
      "E\n",
      "elf\n",
      "\n",
      "F\n",
      "florence_the_machine\n",
      "franz_ferdinand\n",
      "\n",
      "G\n",
      "guns_n_roses\n",
      "\n",
      "I\n",
      "imagine_dragons\n",
      "\n",
      "K\n",
      "kasabian\n",
      "\n",
      "L\n",
      "lana_del_rey\n",
      "\n",
      "M\n",
      "muse\n",
      "\n",
      "Q\n",
      "queen\n",
      "\n",
      "R\n",
      "rainbow\n",
      "roxette\n",
      "\n",
      "U\n",
      "u2\n",
      "\n",
      "W\n",
      "within_temptation\n"
     ]
    },
    {
     "data": {
      "text/plain": [
       "1"
      ]
     },
     "execution_count": 10,
     "metadata": {},
     "output_type": "execute_result"
    }
   ],
   "source": [
    "'''\n",
    "To view the collection\n",
    "'''\n",
    "\n",
    "path = \"discography/\"\n",
    "dir_list = os.listdir(path)\n",
    "artist_list = [re.sub(\"_discography_allthelyrics.csv\", \"\", d) for d in dir_list if \"_discography_allthelyrics.csv\" in d]\n",
    "\n",
    "print_lexic_order_with_first_letter(artist_list)"
   ]
  },
  {
   "cell_type": "code",
   "execution_count": null,
   "id": "0778e684",
   "metadata": {},
   "outputs": [],
   "source": []
  },
  {
   "cell_type": "code",
   "execution_count": 15,
   "id": "f2b7a300",
   "metadata": {},
   "outputs": [],
   "source": [
    "target_word = r\"yet\""
   ]
  },
  {
   "cell_type": "code",
   "execution_count": 21,
   "id": "5f0ad0fd",
   "metadata": {},
   "outputs": [],
   "source": [
    "target_dict = {}"
   ]
  },
  {
   "cell_type": "code",
   "execution_count": null,
   "id": "5af74d97",
   "metadata": {},
   "outputs": [],
   "source": [
    "'''\n",
    "NB!\n",
    "the search below - just for a substring, not a separate word! \n",
    "because it's more useful for phrases\n",
    "'''"
   ]
  },
  {
   "cell_type": "code",
   "execution_count": 24,
   "id": "66987fb9",
   "metadata": {},
   "outputs": [],
   "source": [
    "for artist in artist_list:\n",
    "#     print()\n",
    "#     print(artist)\n",
    "    discography_df = pd.read_csv('discography/' + artist + '_discography_allthelyrics.csv', sep='\\t', encoding='utf-8')\n",
    "    mask = discography_df[\"lyrics\"].str.contains(target_word, na=True)\n",
    "#     print(discography_df.loc[mask, 'song'])\n",
    "    if len(discography_df.loc[mask, 'song']) > 0:\n",
    "        target_dict[artist] = list(discography_df.loc[mask, 'song'])\n",
    "    "
   ]
  },
  {
   "cell_type": "code",
   "execution_count": 25,
   "id": "8fd3303f",
   "metadata": {},
   "outputs": [
    {
     "data": {
      "text/plain": [
       "{'doors': ['An American Prayer',\n",
       "  'An American Prayer - Hour For Magic - Freedom Exists - A Feast Of Friends',\n",
       "  \"When The Music's Over\"],\n",
       " 'guns_n_roses': ['Anything Goes',\n",
       "  'Human Being',\n",
       "  'My World',\n",
       "  'Shadow Of Your Love',\n",
       "  'You Could Be Mine'],\n",
       " 'queen': ['Radio Ga Ga', 'Voodoo', 'Who Wants To Live Forever'],\n",
       " 'bob_dylan': ['Ballad In Plain D',\n",
       "  \"Band Of The Hand (It's Hell Time Man!)\",\n",
       "  'Blue Moon',\n",
       "  'Cross The Green Mountain',\n",
       "  'Days Of 49',\n",
       "  'Dirge',\n",
       "  \"Guess I'm Doin' Fine\",\n",
       "  \"I Don't Believe You (She Acts Like We Never Have Met)\",\n",
       "  'If Dogs Run Free',\n",
       "  'Jim Jones',\n",
       "  'Last Thoughts On Woody Guthrie',\n",
       "  'Make You Feel My Love',\n",
       "  'Mama, You Been On My Mind',\n",
       "  'Not Dark Yet',\n",
       "  'One More Weekend',\n",
       "  'Pretty Peggy-O',\n",
       "  'Rambling, Gambling Willie',\n",
       "  \"The Levee's Gonna Break\",\n",
       "  'Tight Connection To My Heart (Has Anybody Seen My Love)',\n",
       "  'Wedding Song',\n",
       "  'What Good Am I ?'],\n",
       " 'depeche_mode': ['Little 15'],\n",
       " 'blondie': [\"(I'm Always Touched By Your) Presence, Dear\",\n",
       "  \"A Shark In Jet's Clothing Know But I Don't Know (Live In Philadelphia 1978)\",\n",
       "  'Backfired',\n",
       "  'Backfired (Remix)',\n",
       "  \"I Know But I Don't Know\",\n",
       "  'Imitation Of A Kiss'],\n",
       " 'dio': ['All The Fools Sailed Away', 'Magica Story'],\n",
       " 'imagine_dragons': ['30 Lives', 'Lay Me Down'],\n",
       " 'rainbow': ['Stranded'],\n",
       " 'u2': ['Hawkmoon 269', 'Salome'],\n",
       " 'black_sabbath': ['Born Again',\n",
       "  'Little Dolls',\n",
       "  'Looking For Today',\n",
       "  'Trashed']}"
      ]
     },
     "execution_count": 25,
     "metadata": {},
     "output_type": "execute_result"
    }
   ],
   "source": [
    "target_dict"
   ]
  },
  {
   "cell_type": "code",
   "execution_count": null,
   "id": "b0fa6d6d",
   "metadata": {},
   "outputs": [],
   "source": []
  },
  {
   "cell_type": "code",
   "execution_count": null,
   "id": "4d0b736b",
   "metadata": {},
   "outputs": [],
   "source": []
  },
  {
   "cell_type": "code",
   "execution_count": null,
   "id": "4f3244eb",
   "metadata": {},
   "outputs": [],
   "source": []
  },
  {
   "cell_type": "code",
   "execution_count": null,
   "id": "96d7a966",
   "metadata": {},
   "outputs": [],
   "source": []
  },
  {
   "cell_type": "code",
   "execution_count": null,
   "id": "795f62bc",
   "metadata": {},
   "outputs": [],
   "source": []
  },
  {
   "cell_type": "code",
   "execution_count": null,
   "id": "e20d9551",
   "metadata": {},
   "outputs": [],
   "source": []
  },
  {
   "cell_type": "code",
   "execution_count": null,
   "id": "39e41c27",
   "metadata": {},
   "outputs": [],
   "source": []
  }
 ],
 "metadata": {
  "kernelspec": {
   "display_name": "Python 3 (ipykernel)",
   "language": "python",
   "name": "python3"
  },
  "language_info": {
   "codemirror_mode": {
    "name": "ipython",
    "version": 3
   },
   "file_extension": ".py",
   "mimetype": "text/x-python",
   "name": "python",
   "nbconvert_exporter": "python",
   "pygments_lexer": "ipython3",
   "version": "3.11.1"
  }
 },
 "nbformat": 4,
 "nbformat_minor": 5
}
