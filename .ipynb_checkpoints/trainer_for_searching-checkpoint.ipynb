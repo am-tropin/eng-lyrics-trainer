{
 "cells": [
  {
   "cell_type": "code",
   "execution_count": 13,
   "id": "ba40c6fc",
   "metadata": {},
   "outputs": [],
   "source": [
    "import os\n",
    "import re\n",
    "import pandas as pd"
   ]
  },
  {
   "cell_type": "code",
   "execution_count": 8,
   "id": "8a0aa966",
   "metadata": {},
   "outputs": [],
   "source": [
    "# printing a list of titles in lexicographic order with division by the first letter\n",
    "\n",
    "def print_lexic_order_with_first_letter(list_list):\n",
    "    list_list = sorted(list_list)\n",
    "    first_letter = ''\n",
    "    for s in list_list:\n",
    "        if s[0] != first_letter:\n",
    "            first_letter = s[0]\n",
    "            print()\n",
    "            print(str.upper(first_letter))\n",
    "        print(s)\n",
    "    return 1"
   ]
  },
  {
   "cell_type": "markdown",
   "id": "08945015",
   "metadata": {},
   "source": [
    "# 1. To list all artist and their songs"
   ]
  },
  {
   "cell_type": "code",
   "execution_count": 60,
   "id": "3634f22f",
   "metadata": {},
   "outputs": [],
   "source": [
    "'''\n",
    "To view the collection\n",
    "'''\n",
    "\n",
    "path = \"discography/\"\n",
    "dir_list = os.listdir(path)\n",
    "artist_list = [re.sub(\"_discography_allthelyrics.csv\", \"\", d) for d in dir_list if \"_discography_allthelyrics.csv\" in d]\n",
    "\n",
    "# print_lexic_order_with_first_letter(artist_list)\n"
   ]
  },
  {
   "cell_type": "code",
   "execution_count": null,
   "id": "39eea727",
   "metadata": {},
   "outputs": [],
   "source": []
  },
  {
   "cell_type": "code",
   "execution_count": 61,
   "id": "8cbb1ad6",
   "metadata": {},
   "outputs": [],
   "source": [
    "# target_word = r\"yet\"\n",
    "target_word = r\"haven't\""
   ]
  },
  {
   "cell_type": "code",
   "execution_count": null,
   "id": "fd7acb0b",
   "metadata": {},
   "outputs": [],
   "source": []
  },
  {
   "cell_type": "code",
   "execution_count": null,
   "id": "82b4640d",
   "metadata": {},
   "outputs": [],
   "source": [
    "'''\n",
    "NB!\n",
    "the search below - just for a substring, not a separate word! \n",
    "because it's more useful for phrases\n",
    "'''"
   ]
  },
  {
   "cell_type": "code",
   "execution_count": 24,
   "id": "e35e1e22",
   "metadata": {},
   "outputs": [],
   "source": [
    "# target_dict = {}\n",
    "\n",
    "# for artist in artist_list:\n",
    "#     discography_df = pd.read_csv('discography/' + artist + '_discography_allthelyrics.csv', sep='\\t', encoding='utf-8')\n",
    "#     mask = discography_df[\"lyrics\"].str.contains(target_word, na=True)\n",
    "#     if len(discography_df.loc[mask, 'song']) > 0:\n",
    "#         target_dict[artist] = list(discography_df.loc[mask, 'song'])\n",
    "\n",
    "# target_dict\n",
    "    "
   ]
  },
  {
   "cell_type": "code",
   "execution_count": 62,
   "id": "86ae169d",
   "metadata": {},
   "outputs": [
    {
     "data": {
      "text/plain": [
       "{'guns_n_roses': [{'Anything Goes': [\"That I haven't had yet\"]},\n",
       "  {'My Michelle': [\"Case you haven't heard\"]},\n",
       "  {'New Rose': [\"I haven't met her, maybe too late\"]},\n",
       "  {'You Could Be Mine': [\"An you haven't grown up yet\"]}],\n",
       " 'queen': [{'Hang On In There': [\"Don't be a fool you haven't reached your peak\"]},\n",
       "  {\"I'm Going Slightly Mad\": [\"To be honest you haven't got a clue\"]},\n",
       "  {'Nevermore': [\"Were so warm and tender, Now haven't anything to grow\"]}],\n",
       " 'roxette': [{'Como La Lluvia En El Cristal': [\"I haven't got room for a broken heart.\"]},\n",
       "  {'Make My Head Go Pop': [\"I haven't got a clue what is wrong, what is right, what is left to do\"]},\n",
       "  {'You Turn Me On': [\"Guess I haven't been around\"]}],\n",
       " 'bob_dylan': [{'Ballad In Plain D': [\"The words to say I'm sorry, I haven't found yet\"]},\n",
       "  {'Death Is Not The End': [\"And you haven't got a friend\"]},\n",
       "  {'Highlands': ['haven\\'t you looked?\"']},\n",
       "  {'Idiot Wind': [\"I haven't known peace and quiet for so long I can't remember what it's like.\"]},\n",
       "  {'Make You Feel My Love': [\"I know you haven't made your mind up yet\"]},\n",
       "  {'Orange Juice Blues': [\"You haven't been right with me, why don't you get right?\"]},\n",
       "  {'Orange Juice Blues (Blues For Breakfast)': [\"You haven't been right with me, why don't you get right?\"]},\n",
       "  {'Tight Connection To My Heart (Has Anybody Seen My Love)': [\"And we haven't even started yet\"]},\n",
       "  {'Wedding Song': [\"I love you more than ever and I haven't yet begun.\"]}],\n",
       " 'within_temptation': [{'Dark Wings': [\"You haven't made your peace\"]},\n",
       "  {'Our Solemn Hour': [\"And we haven't learned\"]}],\n",
       " 'depeche_mode': [{'A Photograph Of You': [\"But then again I haven't the guts\"]},\n",
       "  {'But Not Tonight': [\"And I haven't felt so alive\"]},\n",
       "  {'Freelove': [\"No I haven't been getting anywhere\",\n",
       "    \"And I haven't been getting anywhere\"]},\n",
       "  {'Get The Balance Right': [\"You haven't got a hold at all\"]}],\n",
       " 'blondie': [{'Fan Mail': [\"I haven't ate in days\",\n",
       "    \"And I haven't slept in days and days, days and days\"]},\n",
       "  {'Now I Know You Know': [\"I've said that my music will play second love to none, but you haven't learned to love yourself, you had to be the only one.\"]}],\n",
       " 'dio': [{'The Man Who Would Be King': [\"I've been so busy killing, I haven't found the time\"]}],\n",
       " 'u2': [{\"11 O'Clock Tick Tock\": [\"And I know we haven't long\"]},\n",
       "  {\"11 O'clock Tick Tock (Live From Boston 1981)\": [\"A painted face and I know we haven't long\"]},\n",
       "  {\"I Still Haven't Found What I'm Looking For\": [\"But I still haven't found what I'm looking for\"]},\n",
       "  {'Last Night On Earth (Live From Mexico City)': [\"We haven't been to bed in a week\"]},\n",
       "  {'Miracle Drug': [\"To hear the things you haven't said\"]},\n",
       "  {'Stuck In A Moment': [\"That I haven't already heard\"]},\n",
       "  {\"Stuck In A Moment You Can't Get Out Of\": [\"That I haven't already heard\"]},\n",
       "  {\"Stuck In A Moment You Can't Get Out Of (Accoustic Version)\": [\"That I haven't already heard\"]}]}"
      ]
     },
     "execution_count": 62,
     "metadata": {},
     "output_type": "execute_result"
    }
   ],
   "source": [
    "target_dict_full = {}\n",
    "\n",
    "for artist in artist_list:\n",
    "#     print()\n",
    "#     print(artist)\n",
    "    discography_df = pd.read_csv('discography/' + artist + '_discography_allthelyrics.csv', sep='\\t', encoding='utf-8')\n",
    "    mask = discography_df[\"lyrics\"].str.contains(target_word, na=True)\n",
    "    if len(discography_df.loc[mask, 'song']) > 0:\n",
    "        song_list = list(discography_df.loc[mask, 'song'])\n",
    "        target_dict_full[artist] = song_list\n",
    "        for song in song_list:\n",
    "#             print(song)\n",
    "            string_list = list(discography_df[discography_df[\"song\"] == song][\"lyrics\"].apply(lambda x: x.split('\\n')))\n",
    "            target_string_list = [s for s in string_list[0] if re.findall(target_word, s)] # target_word in s\n",
    "#             to drop duplicates\n",
    "            target_string_list = list(set(target_string_list))\n",
    "            i = target_dict_full[artist].index(song)\n",
    "            target_dict_full[artist] = target_dict_full[artist][:i]+[{song: target_string_list}]+target_dict_full[artist][i+1:]\n",
    "        \n",
    "target_dict_full\n"
   ]
  },
  {
   "cell_type": "code",
   "execution_count": null,
   "id": "c307e584",
   "metadata": {},
   "outputs": [],
   "source": []
  },
  {
   "cell_type": "code",
   "execution_count": null,
   "id": "5ccae32f",
   "metadata": {},
   "outputs": [],
   "source": [
    "# nice to convert in dataframe"
   ]
  },
  {
   "cell_type": "code",
   "execution_count": null,
   "id": "f92c5bd9",
   "metadata": {},
   "outputs": [],
   "source": []
  },
  {
   "cell_type": "code",
   "execution_count": null,
   "id": "a5cd1383",
   "metadata": {},
   "outputs": [],
   "source": []
  }
 ],
 "metadata": {
  "kernelspec": {
   "display_name": "Python 3 (ipykernel)",
   "language": "python",
   "name": "python3"
  },
  "language_info": {
   "codemirror_mode": {
    "name": "ipython",
    "version": 3
   },
   "file_extension": ".py",
   "mimetype": "text/x-python",
   "name": "python",
   "nbconvert_exporter": "python",
   "pygments_lexer": "ipython3",
   "version": "3.11.1"
  }
 },
 "nbformat": 4,
 "nbformat_minor": 5
}
