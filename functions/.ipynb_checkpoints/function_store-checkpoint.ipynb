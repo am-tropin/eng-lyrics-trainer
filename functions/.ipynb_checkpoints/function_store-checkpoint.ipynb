{
 "cells": [
  {
   "cell_type": "code",
   "execution_count": null,
   "id": "4ab539fd",
   "metadata": {},
   "outputs": [],
   "source": [
    "import os\n",
    "import re\n",
    "import pandas as pd\n",
    "import random"
   ]
  },
  {
   "cell_type": "code",
   "execution_count": 2,
   "id": "2eb65f29",
   "metadata": {},
   "outputs": [],
   "source": [
    "# from pathlib import Path\n",
    "\n",
    "# ROOT = Path(__file__).parent.parent"
   ]
  },
  {
   "cell_type": "code",
   "execution_count": null,
   "id": "5e322e35",
   "metadata": {},
   "outputs": [],
   "source": []
  },
  {
   "cell_type": "code",
   "execution_count": null,
   "id": "2f9c318c",
   "metadata": {},
   "outputs": [],
   "source": []
  },
  {
   "cell_type": "markdown",
   "id": "9c6061be",
   "metadata": {},
   "source": [
    "# For trainers"
   ]
  },
  {
   "cell_type": "code",
   "execution_count": null,
   "id": "053c8bfd",
   "metadata": {},
   "outputs": [],
   "source": [
    "def collect_artist_list():\n",
    "    path = \"../discography/\"\n",
    "    dir_list = os.listdir(path)\n",
    "    artist_list = [re.sub(\"_discography_allthelyrics.csv\", \"\", d) for d in dir_list if \"_discography_allthelyrics.csv\" in d]\n",
    "\n",
    "    return artist_list\n"
   ]
  },
  {
   "cell_type": "code",
   "execution_count": null,
   "id": "e7e0e2ac",
   "metadata": {},
   "outputs": [],
   "source": [
    "def collect_discography_df(artist):\n",
    "    path = \"../discography/\"\n",
    "    discography_df = pd.read_csv(path + artist + '_discography_allthelyrics.csv', sep='\\t', encoding='utf-8')\n",
    "\n",
    "    return discography_df\n",
    "\n",
    "def collect_song_list(artist):\n",
    "    discography_df = collect_discography_df(artist)\n",
    "    songs = list(discography_df['song'])\n",
    "\n",
    "    return songs"
   ]
  },
  {
   "cell_type": "code",
   "execution_count": null,
   "id": "95fdc2cf",
   "metadata": {},
   "outputs": [],
   "source": [
    "# printing a list of titles in lexicographic order with division by the first letter\n",
    "\n",
    "def print_lexic_order_with_first_letter(list_list):\n",
    "    list_list = sorted(list_list)\n",
    "    first_letter = ''\n",
    "    for s in list_list:\n",
    "        if s[0] != first_letter:\n",
    "            first_letter = s[0]\n",
    "            print()\n",
    "            print(str.upper(first_letter))\n",
    "        print(s)\n",
    "    return 1"
   ]
  },
  {
   "cell_type": "code",
   "execution_count": null,
   "id": "f0b80acc",
   "metadata": {},
   "outputs": [],
   "source": [
    "# creating the file with lyrics with gaps and the list with correct answers\n",
    "\n",
    "def add_gaps_to_lyrics(artist, song_title, string_frequency):\n",
    "    \n",
    "    discography_df = collect_discography_df(artist)\n",
    "    song_txt = discography_df[discography_df['song'] == song_title]['lyrics'].iloc[0]\n",
    "    song_strings = song_txt.split('\\n')\n",
    "\n",
    "    string_counter = 0\n",
    "    correct_answers = []\n",
    "    gap_counter = 0\n",
    "    \n",
    "    fixed_song_list = []\n",
    "\n",
    "    for s in song_strings:\n",
    "        if string_counter % string_frequency == 0:\n",
    "            gap_counter += 1\n",
    "            words = s.split(' ')\n",
    "#             to set random index of deleting word in the string\n",
    "            deleted_word_no = random.randint(0,len(words)-1)\n",
    "#             to save deleting word in correct_answers list\n",
    "            correct_answers.append(str.lower(str.strip(re.sub(\"[^\\w\\-\\']\", \" \", words[deleted_word_no]))))\n",
    "#             to replace deleting word in string s with gaps, but not ' and not - # \"\\w|-|\\'\"\n",
    "            words[deleted_word_no] = \"({0})\".format(gap_counter) + re.sub(\"\\w|-|\\'\", \"_\", words[deleted_word_no])\n",
    "#             to glue the string back\n",
    "            fixed_song_list.append(' '.join(words))\n",
    "        else:\n",
    "            fixed_song_list.append(s)\n",
    "        string_counter += 1\n",
    "    \n",
    "    with open(\"lyrics_with_gaps_\" + \"_\".join(song_title.split()) + \".txt\", 'w') as file:\n",
    "        pass\n",
    "    with open(\"lyrics_with_gaps_\" + \"_\".join(song_title.split()) + \".txt\", 'w') as f:\n",
    "        for s in fixed_song_list:\n",
    "            f.write(f\"{s}\\n\")\n",
    "    \n",
    "    return correct_answers, gap_counter\n"
   ]
  },
  {
   "cell_type": "code",
   "execution_count": null,
   "id": "667046d1",
   "metadata": {},
   "outputs": [],
   "source": [
    "# processing of your answers\n",
    "\n",
    "def mark(a, b):\n",
    "    if a == b:\n",
    "        return '+'\n",
    "    else:\n",
    "        return ''\n",
    "\n",
    "def answers_processing(correct_answers, gap_counter):\n",
    "\n",
    "    my_answers = []\n",
    "\n",
    "    for i in range(gap_counter):\n",
    "        my_answers.append(str.lower(str.strip(input(\"{0}:\\t \".format(i+1)))))\n",
    "\n",
    "    print()\n",
    "    correct_cnt = sum([1 for i in range(gap_counter) if correct_answers[i] == my_answers[i] ])\n",
    "\n",
    "    shift = max(8, max(map(len, correct_answers)))\n",
    "    print(\"\\t correct:{0} - my answer:\".format(' '*(shift-8)))\n",
    "\n",
    "    for i in range(gap_counter):\n",
    "        print(\"{0}  {1}\\t {2} - {3}\".format(i+1, mark(correct_answers[i],my_answers[i]), correct_answers[i] + ' '*(shift - len(correct_answers[i])), my_answers[i]))\n",
    "    print()\n",
    "\n",
    "    return \"Results: {0} from {1} ({2}%)\".format(correct_cnt, gap_counter, round(100 * correct_cnt/gap_counter, 1))\n"
   ]
  },
  {
   "cell_type": "code",
   "execution_count": null,
   "id": "1ac1237c",
   "metadata": {},
   "outputs": [],
   "source": []
  },
  {
   "cell_type": "code",
   "execution_count": null,
   "id": "cfacdac1",
   "metadata": {},
   "outputs": [],
   "source": [
    "def print_strings_with_pattern(target_word):\n",
    "    \n",
    "    artist_list = collect_artist_list()\n",
    "    target_dict_full = {}\n",
    "    path = \"../discography/\"\n",
    "\n",
    "    for artist in artist_list:\n",
    "        discography_df = pd.read_csv(path + artist + '_discography_allthelyrics.csv', sep='\\t', encoding='utf-8')\n",
    "        mask = discography_df[\"lyrics\"].str.contains(target_word, na=True)\n",
    "        if len(discography_df.loc[mask, 'song']) > 0:\n",
    "            song_list = list(discography_df.loc[mask, 'song'])\n",
    "            target_dict_full[artist] = song_list\n",
    "            for song in song_list:\n",
    "                string_list = list(discography_df[discography_df[\"song\"] == song][\"lyrics\"].apply(lambda x: x.split('\\n')))\n",
    "                target_string_list = [s for s in string_list[0] if re.findall(target_word, str.lower(s))] # target_word in s\n",
    "                target_string_list = list(set(target_string_list))\n",
    "                i = target_dict_full[artist].index(song)\n",
    "                target_dict_full[artist] = target_dict_full[artist][:i]+[{song: target_string_list}]+target_dict_full[artist][i+1:]\n",
    "\n",
    "    return target_dict_full\n",
    "\n",
    "\n",
    "def download_target_strings_to_txt(target_word):\n",
    "    \n",
    "    target_dict_full = print_strings_with_pattern(target_word)\n",
    "    \n",
    "    with open(\"lyrics_with_target_word_[\" + target_word + \"].txt\", 'w') as f:\n",
    "        for artist in target_dict_full.keys():\n",
    "            for d in target_dict_full[artist]:\n",
    "                for song in d.keys():\n",
    "                    for string in d[song]:\n",
    "                        f.write(\"{0}\\n\".format(string))\n",
    "                        f.write(\"\\t\\t\\t\\t\\t\\t\\t\\t\\t\\t({0}, \\\"{1}\\\")\\n\\n\".format(artist, song))\n"
   ]
  },
  {
   "cell_type": "code",
   "execution_count": null,
   "id": "578ff622",
   "metadata": {},
   "outputs": [],
   "source": []
  }
 ],
 "metadata": {
  "kernelspec": {
   "display_name": "Python 3 (ipykernel)",
   "language": "python",
   "name": "python3"
  },
  "language_info": {
   "codemirror_mode": {
    "name": "ipython",
    "version": 3
   },
   "file_extension": ".py",
   "mimetype": "text/x-python",
   "name": "python",
   "nbconvert_exporter": "python",
   "pygments_lexer": "ipython3",
   "version": "3.11.1"
  }
 },
 "nbformat": 4,
 "nbformat_minor": 5
}
