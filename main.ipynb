{
 "cells": [
  {
   "cell_type": "code",
   "execution_count": null,
   "id": "e269d59f",
   "metadata": {},
   "outputs": [],
   "source": [
    "from lyrics_recommender import top_recommended_lyrics\n",
    "\n",
    "# API\n",
    "from fastapi import FastAPI, Request, Form\n",
    "from fastapi.templating import Jinja2Templates\n"
   ]
  },
  {
   "cell_type": "code",
   "execution_count": null,
   "id": "09f03934",
   "metadata": {},
   "outputs": [],
   "source": [
    "app = FastAPI()\n",
    "templates = Jinja2Templates(directory=\"templates/\")\n",
    "\n",
    "\n",
    "@app.get(\"/\")\n",
    "async def root():\n",
    "    return \"Welcome to the English Song Lyrics Recommender!\"\n",
    "\n",
    "\n",
    "# without html\n",
    "\n",
    "@app.get(\"/top_recommended/{artist}_{song}_{n}\")\n",
    "async def get_top_recommended_lyrics(artist: str, song: str, n: int):\n",
    "    return top_recommended_lyrics(artist, song, n).transpose().to_dict()\n",
    "\n",
    "\n",
    "# with html\n",
    "\n",
    "@app.get(\"/top_html/{artist}_{song}_{n}\")\n",
    "async def get_top_recomm_lyrics(artist: str, song: str, n: int):\n",
    "    return {\"Anniversaries in the range:\": top_recommended_lyrics(artist, song, n)}\n",
    "\n",
    "@app.get(\"/top/{form}\")\n",
    "def form_post_top(request: Request):\n",
    "    result = \"Type artist name (in lower case, with _ instead of spaces) and song name\"\n",
    "    return templates.TemplateResponse('form_song_recommender.html', context={'request': request, 'result': result})\n",
    "\n",
    "@app.post(\"/top/{form}\")\n",
    "def form_post_top(request: Request, artist: str = Form(...), song: str = Form(...), n: int = Form(...)):\n",
    "    result = top_recommended_lyrics(artist, song, n)\n",
    "    return templates.TemplateResponse('form_song_recommender.html', context={'request': request, 'result': result.to_html()})\n",
    "\n"
   ]
  }
 ],
 "metadata": {
  "kernelspec": {
   "display_name": "Python 3 (ipykernel)",
   "language": "python",
   "name": "python3"
  },
  "language_info": {
   "codemirror_mode": {
    "name": "ipython",
    "version": 3
   },
   "file_extension": ".py",
   "mimetype": "text/x-python",
   "name": "python",
   "nbconvert_exporter": "python",
   "pygments_lexer": "ipython3",
   "version": "3.11.1"
  }
 },
 "nbformat": 4,
 "nbformat_minor": 5
}
