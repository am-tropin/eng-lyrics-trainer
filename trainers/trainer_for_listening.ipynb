{
 "cells": [
  {
   "cell_type": "code",
   "execution_count": 1,
   "id": "3cc6aac8",
   "metadata": {},
   "outputs": [],
   "source": [
    "# import sys\n",
    "# sys.path.append('../functions')\n",
    "# from function_store import collect_artist_list, print_lexic_order_with_first_letter, add_gaps_to_lyrics, answers_processing\n",
    "\n",
    "import sys\n",
    "sys.path.append('../')\n",
    "from functions.function_store import collect_artist_list, collect_song_list, print_lexic_order_with_first_letter, add_gaps_to_lyrics, answers_processing\n"
   ]
  },
  {
   "cell_type": "markdown",
   "id": "aa4c592c",
   "metadata": {},
   "source": [
    "# 1. Choose the artist and the song"
   ]
  },
  {
   "cell_type": "code",
   "execution_count": 2,
   "id": "94bf34e4",
   "metadata": {},
   "outputs": [
    {
     "name": "stdout",
     "output_type": "stream",
     "text": [
      "\n",
      "B\n",
      "black_sabbath\n",
      "blondie\n",
      "bob_dylan\n",
      "\n",
      "D\n",
      "depeche_mode\n",
      "dio\n",
      "doors\n",
      "\n",
      "E\n",
      "elf\n",
      "\n",
      "F\n",
      "florence_the_machine\n",
      "franz_ferdinand\n",
      "\n",
      "G\n",
      "guns_n_roses\n",
      "\n",
      "I\n",
      "imagine_dragons\n",
      "\n",
      "K\n",
      "kasabian\n",
      "\n",
      "L\n",
      "lana_del_rey\n",
      "\n",
      "M\n",
      "muse\n",
      "\n",
      "Q\n",
      "queen\n",
      "\n",
      "R\n",
      "rainbow\n",
      "roxette\n",
      "\n",
      "U\n",
      "u2\n",
      "\n",
      "W\n",
      "within_temptation\n"
     ]
    },
    {
     "data": {
      "text/plain": [
       "1"
      ]
     },
     "execution_count": 2,
     "metadata": {},
     "output_type": "execute_result"
    }
   ],
   "source": [
    "'''\n",
    "To view the collection\n",
    "'''\n",
    "print_lexic_order_with_first_letter(collect_artist_list())"
   ]
  },
  {
   "cell_type": "code",
   "execution_count": 3,
   "id": "ad934b13",
   "metadata": {},
   "outputs": [],
   "source": [
    "'''\n",
    "To choose the artist\n",
    "'''\n",
    "\n",
    "target_artist = 'florence_the_machine'"
   ]
  },
  {
   "cell_type": "code",
   "execution_count": 4,
   "id": "a464865f",
   "metadata": {},
   "outputs": [
    {
     "name": "stdout",
     "output_type": "stream",
     "text": [
      "\n",
      "A\n",
      "Addicted To Love\n",
      "All This And Heaven Too\n",
      "\n",
      "B\n",
      "Between Two Lungs\n",
      "Blinding\n",
      "Breaking Down\n",
      "\n",
      "C\n",
      "Cosmic Love\n",
      "\n",
      "D\n",
      "Dog Days Are Over\n",
      "Drumming Song\n",
      "\n",
      "G\n",
      "Girl With One Eye\n",
      "\n",
      "H\n",
      "Heartlines\n",
      "Hurricane Drunk\n",
      "\n",
      "I\n",
      "I'm Not Calling You A Liar\n",
      "\n",
      "K\n",
      "Kiss With A Fist\n",
      "\n",
      "L\n",
      "Leave My Body\n",
      "Lover To Lover\n",
      "\n",
      "M\n",
      "My Boy Builds Coffins\n",
      "\n",
      "N\n",
      "Never Let Me Go\n",
      "No Light No Light\n",
      "\n",
      "O\n",
      "Only If For A Night\n",
      "\n",
      "R\n",
      "Rabbit Heart (Raise It Up)\n",
      "\n",
      "S\n",
      "Seven Devils\n",
      "Shake It Out\n",
      "Spectrum\n",
      "\n",
      "W\n",
      "What The Water Gave Me\n",
      "\n",
      "Y\n",
      "You've Got The Love\n"
     ]
    },
    {
     "data": {
      "text/plain": [
       "1"
      ]
     },
     "execution_count": 4,
     "metadata": {},
     "output_type": "execute_result"
    }
   ],
   "source": [
    "'''\n",
    "To view the discography\n",
    "'''\n",
    "\n",
    "print_lexic_order_with_first_letter(collect_song_list(target_artist))"
   ]
  },
  {
   "cell_type": "code",
   "execution_count": 5,
   "id": "d7de6cdd",
   "metadata": {},
   "outputs": [],
   "source": [
    "'''\n",
    "To choose the song:\n",
    "'''\n",
    "\n",
    "target_song = 'No Light No Light'\n",
    "string_frequency = 2\n"
   ]
  },
  {
   "cell_type": "markdown",
   "id": "7c8eea33",
   "metadata": {},
   "source": [
    "# 2. The trainer: Fill in the gaps!"
   ]
  },
  {
   "cell_type": "code",
   "execution_count": 6,
   "id": "3820b316",
   "metadata": {},
   "outputs": [
    {
     "name": "stdout",
     "output_type": "stream",
     "text": [
      "1:\t -\n",
      "2:\t -\n",
      "3:\t -\n",
      "4:\t -\n",
      "5:\t -\n",
      "6:\t -\n",
      "7:\t -\n",
      "8:\t -\n",
      "9:\t -\n",
      "10:\t -\n",
      "11:\t -\n",
      "12:\t -\n",
      "13:\t -\n",
      "14:\t -\n",
      "15:\t -\n",
      "16:\t -\n",
      "17:\t -\n",
      "18:\t -\n",
      "19:\t -\n",
      "20:\t -\n",
      "21:\t -\n",
      "22:\t -\n",
      "23:\t -\n",
      "24:\t -\n",
      "25:\t -\n",
      "26:\t -\n",
      "27:\t -\n",
      "28:\t -\n",
      "29:\t -\n",
      "30:\t -\n",
      "31:\t -\n",
      "32:\t -\n",
      "33:\t -\n",
      "34:\t -\n",
      "\n",
      "\t correct:   - my answer:\n",
      "1  \t hole       - -\n",
      "2  \t silence    - -\n",
      "3  \t the        - -\n",
      "4  \t it's       - -\n",
      "5  \t you're     - -\n",
      "6  \t knew       - -\n",
      "7  \t and        - -\n",
      "8  \t no         - -\n",
      "9  \t you        - -\n",
      "10  \t at         - -\n",
      "11  \t in         - -\n",
      "12  \t right      - -\n",
      "13  \t you        - -\n",
      "14  \t have       - -\n",
      "15  \t kind       - -\n",
      "16  \t in         - -\n",
      "17  \t the        - -\n",
      "18  \t make       - -\n",
      "19  \t no         - -\n",
      "20  \t would      - -\n",
      "21  \t me         - -\n",
      "22  \t easy       - -\n",
      "23  \t hard       - -\n",
      "24  \t no         - -\n",
      "25  \t a          - -\n",
      "26  \t stay       - -\n",
      "27  \t no         - -\n",
      "28  \t want       - -\n",
      "29  \t it's       - -\n",
      "30  \t revelation - -\n",
      "31  \t you        - -\n",
      "32  \t to         - -\n",
      "33  \t just       - -\n",
      "34  \t some       - -\n",
      "\n",
      "Results: 0 from 34 (0.0%)\n"
     ]
    }
   ],
   "source": [
    "correct_answers, gap_counter = add_gaps_to_lyrics(target_artist, target_song, string_frequency)\n",
    "print(answers_processing(correct_answers, gap_counter))"
   ]
  },
  {
   "cell_type": "code",
   "execution_count": null,
   "id": "d1738bb7",
   "metadata": {},
   "outputs": [],
   "source": []
  },
  {
   "cell_type": "code",
   "execution_count": null,
   "id": "6d617fc4",
   "metadata": {},
   "outputs": [],
   "source": []
  }
 ],
 "metadata": {
  "kernelspec": {
   "display_name": "Python 3 (ipykernel)",
   "language": "python",
   "name": "python3"
  },
  "language_info": {
   "codemirror_mode": {
    "name": "ipython",
    "version": 3
   },
   "file_extension": ".py",
   "mimetype": "text/x-python",
   "name": "python",
   "nbconvert_exporter": "python",
   "pygments_lexer": "ipython3",
   "version": "3.11.1"
  }
 },
 "nbformat": 4,
 "nbformat_minor": 5
}
