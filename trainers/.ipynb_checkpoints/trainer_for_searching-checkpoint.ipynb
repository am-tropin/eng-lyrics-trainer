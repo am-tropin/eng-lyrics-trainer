{
 "cells": [
  {
   "cell_type": "code",
   "execution_count": 1,
   "id": "292a7567",
   "metadata": {},
   "outputs": [],
   "source": [
    "# import sys\n",
    "# sys.path.append('../functions/')\n",
    "# from function_store import download_target_strings_to_txt\n",
    "\n",
    "import sys\n",
    "sys.path.append('../')\n",
    "from functions.function_store import download_target_strings_to_txt"
   ]
  },
  {
   "cell_type": "markdown",
   "id": "208da6d3",
   "metadata": {},
   "source": [
    "# Enter the target substring and look the .txt file"
   ]
  },
  {
   "cell_type": "code",
   "execution_count": 2,
   "id": "2d328b49",
   "metadata": {},
   "outputs": [],
   "source": [
    "'''\n",
    "Enter the signal word (in lower case)\n",
    "'''\n",
    "\n",
    "# target_word = r\"yet\"\n",
    "target_word = r\"haven't\""
   ]
  },
  {
   "cell_type": "code",
   "execution_count": 26,
   "id": "b99a74da",
   "metadata": {},
   "outputs": [
    {
     "name": "stdout",
     "output_type": "stream",
     "text": [
      "haven't\n"
     ]
    }
   ],
   "source": [
    "target_word = input()"
   ]
  },
  {
   "cell_type": "code",
   "execution_count": null,
   "id": "bc8386f1",
   "metadata": {},
   "outputs": [],
   "source": [
    "'''\n",
    "NB!\n",
    "the search below - just for a substring, not a separate word! \n",
    "because it's more useful for phrases\n",
    "'''"
   ]
  },
  {
   "cell_type": "code",
   "execution_count": 3,
   "id": "6dc8ae8d",
   "metadata": {},
   "outputs": [],
   "source": [
    "download_target_strings_to_txt(target_word)"
   ]
  },
  {
   "cell_type": "code",
   "execution_count": null,
   "id": "f482d21b",
   "metadata": {},
   "outputs": [],
   "source": []
  },
  {
   "cell_type": "code",
   "execution_count": null,
   "id": "278129f0",
   "metadata": {},
   "outputs": [],
   "source": []
  },
  {
   "cell_type": "code",
   "execution_count": null,
   "id": "1cccbc39",
   "metadata": {},
   "outputs": [],
   "source": []
  },
  {
   "cell_type": "code",
   "execution_count": null,
   "id": "decb1e29",
   "metadata": {},
   "outputs": [],
   "source": []
  },
  {
   "cell_type": "code",
   "execution_count": 28,
   "id": "8f4651cf",
   "metadata": {},
   "outputs": [],
   "source": [
    "# print_strings_with_pattern(target_word)"
   ]
  },
  {
   "cell_type": "code",
   "execution_count": 71,
   "id": "8ae70f26",
   "metadata": {},
   "outputs": [
    {
     "name": "stdout",
     "output_type": "stream",
     "text": [
      "\n",
      "guns_n_roses:\n",
      "- Anything Goes:\n",
      "\t\tThat I haven't had yet\n",
      "- My Michelle:\n",
      "\t\tCase you haven't heard\n",
      "- New Rose:\n",
      "\t\tI haven't met her, maybe too late\n",
      "- You Could Be Mine:\n",
      "\t\tAn you haven't grown up yet\n",
      "\n",
      "queen:\n",
      "- Hang On In There:\n",
      "\t\tDon't be a fool you haven't reached your peak\n",
      "- I'm Going Slightly Mad:\n",
      "\t\tTo be honest you haven't got a clue\n",
      "- Nevermore:\n",
      "\t\tWere so warm and tender, Now haven't anything to grow\n",
      "\n",
      "roxette:\n",
      "- Como La Lluvia En El Cristal:\n",
      "\t\tI haven't got room for a broken heart.\n",
      "- Make My Head Go Pop:\n",
      "\t\tI haven't got a clue what is wrong, what is right, what is left to do\n",
      "- You Turn Me On:\n",
      "\t\tGuess I haven't been around\n",
      "\n",
      "bob_dylan:\n",
      "- Ballad In Plain D:\n",
      "\t\tThe words to say I'm sorry, I haven't found yet\n",
      "- Death Is Not The End:\n",
      "\t\tAnd you haven't got a friend\n",
      "- Highlands:\n",
      "\t\thaven't you looked?\"\n",
      "- Idiot Wind:\n",
      "\t\tI haven't known peace and quiet for so long I can't remember what it's like.\n",
      "- Make You Feel My Love:\n",
      "\t\tI know you haven't made your mind up yet\n",
      "- Orange Juice Blues:\n",
      "\t\tYou haven't been right with me, why don't you get right?\n",
      "- Orange Juice Blues (Blues For Breakfast):\n",
      "\t\tYou haven't been right with me, why don't you get right?\n",
      "- Tight Connection To My Heart (Has Anybody Seen My Love):\n",
      "\t\tAnd we haven't even started yet\n",
      "- Wedding Song:\n",
      "\t\tI love you more than ever and I haven't yet begun.\n",
      "\n",
      "within_temptation:\n",
      "- Dark Wings:\n",
      "\t\tYou haven't made your peace\n",
      "- Our Solemn Hour:\n",
      "\t\tAnd we haven't learned\n",
      "\n",
      "depeche_mode:\n",
      "- A Photograph Of You:\n",
      "\t\tBut then again I haven't the guts\n",
      "- But Not Tonight:\n",
      "\t\tAnd I haven't felt so alive\n",
      "- Freelove:\n",
      "\t\tNo I haven't been getting anywhere\n",
      "\t\tAnd I haven't been getting anywhere\n",
      "- Get The Balance Right:\n",
      "\t\tYou haven't got a hold at all\n",
      "\n",
      "blondie:\n",
      "- Fan Mail:\n",
      "\t\tI haven't ate in days\n",
      "\t\tAnd I haven't slept in days and days, days and days\n",
      "- Now I Know You Know:\n",
      "\t\tI've said that my music will play second love to none, but you haven't learned to love yourself, you had to be the only one.\n",
      "\n",
      "dio:\n",
      "- The Man Who Would Be King:\n",
      "\t\tI've been so busy killing, I haven't found the time\n",
      "\n",
      "u2:\n",
      "- 11 O'Clock Tick Tock:\n",
      "\t\tAnd I know we haven't long\n",
      "- 11 O'clock Tick Tock (Live From Boston 1981):\n",
      "\t\tA painted face and I know we haven't long\n",
      "- I Still Haven't Found What I'm Looking For:\n",
      "\t\tBut I still haven't found what I'm looking for\n",
      "- Last Night On Earth (Live From Mexico City):\n",
      "\t\tWe haven't been to bed in a week\n",
      "- Miracle Drug:\n",
      "\t\tTo hear the things you haven't said\n",
      "- Stuck In A Moment:\n",
      "\t\tThat I haven't already heard\n",
      "- Stuck In A Moment You Can't Get Out Of:\n",
      "\t\tThat I haven't already heard\n",
      "- Stuck In A Moment You Can't Get Out Of (Accoustic Version):\n",
      "\t\tThat I haven't already heard\n"
     ]
    }
   ],
   "source": [
    "# for artist in target_dict_full.keys():\n",
    "#     print()\n",
    "#     print(artist + \":\")\n",
    "#     for d in target_dict_full[artist]:\n",
    "#         for key in d.keys():\n",
    "#             print(\"- \" + key + \":\")\n",
    "#             for string in d[key]:\n",
    "#                 print(\"\\t\\t\" + string)"
   ]
  }
 ],
 "metadata": {
  "kernelspec": {
   "display_name": "Python 3 (ipykernel)",
   "language": "python",
   "name": "python3"
  },
  "language_info": {
   "codemirror_mode": {
    "name": "ipython",
    "version": 3
   },
   "file_extension": ".py",
   "mimetype": "text/x-python",
   "name": "python",
   "nbconvert_exporter": "python",
   "pygments_lexer": "ipython3",
   "version": "3.11.1"
  }
 },
 "nbformat": 4,
 "nbformat_minor": 5
}
