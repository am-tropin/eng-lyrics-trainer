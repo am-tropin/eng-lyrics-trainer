{
 "cells": [
  {
   "cell_type": "code",
   "execution_count": 1,
   "id": "b7cc6b63",
   "metadata": {},
   "outputs": [],
   "source": [
    "import os\n",
    "import re\n",
    "import pandas as pd"
   ]
  },
  {
   "cell_type": "code",
   "execution_count": 2,
   "id": "69581442",
   "metadata": {},
   "outputs": [],
   "source": [
    "from sklearn.feature_extraction.text import TfidfVectorizer\n",
    "from sklearn.metrics.pairwise import cosine_similarity\n"
   ]
  },
  {
   "cell_type": "code",
   "execution_count": 3,
   "id": "a61da2d6",
   "metadata": {},
   "outputs": [],
   "source": [
    "# import sys\n",
    "# sys.path.append('../')\n",
    "from functions.function_store import print_lexic_order_with_first_letter, collect_artist_list, collect_song_list, collect_full_discography\n"
   ]
  },
  {
   "cell_type": "markdown",
   "id": "d25dc67e",
   "metadata": {},
   "source": [
    "# 1. Choosing the song for comparison"
   ]
  },
  {
   "cell_type": "code",
   "execution_count": 4,
   "id": "930c9b4c",
   "metadata": {},
   "outputs": [
    {
     "name": "stdout",
     "output_type": "stream",
     "text": [
      "\n",
      "B\n",
      "black_sabbath\n",
      "blondie\n",
      "bob_dylan\n",
      "\n",
      "D\n",
      "depeche_mode\n",
      "dio\n",
      "doors\n",
      "\n",
      "E\n",
      "elf\n",
      "\n",
      "F\n",
      "florence_the_machine\n",
      "franz_ferdinand\n",
      "\n",
      "G\n",
      "guns_n_roses\n",
      "\n",
      "I\n",
      "imagine_dragons\n",
      "\n",
      "K\n",
      "kasabian\n",
      "\n",
      "L\n",
      "lana_del_rey\n",
      "\n",
      "M\n",
      "muse\n",
      "\n",
      "Q\n",
      "queen\n",
      "\n",
      "R\n",
      "rainbow\n",
      "roxette\n",
      "\n",
      "U\n",
      "u2\n",
      "\n",
      "W\n",
      "within_temptation\n"
     ]
    },
    {
     "data": {
      "text/plain": [
       "1"
      ]
     },
     "execution_count": 4,
     "metadata": {},
     "output_type": "execute_result"
    }
   ],
   "source": [
    "'''\n",
    "To view the collection\n",
    "'''\n",
    "\n",
    "# path = \"discography/\"\n",
    "artist_list = collect_artist_list()\n",
    "\n",
    "print_lexic_order_with_first_letter(artist_list)\n"
   ]
  },
  {
   "cell_type": "code",
   "execution_count": 5,
   "id": "1fd8bcfc",
   "metadata": {},
   "outputs": [],
   "source": [
    "'''\n",
    "To choose the artist\n",
    "'''\n",
    "\n",
    "target_artist = 'florence_the_machine'\n",
    "# 'florence_the_machine'"
   ]
  },
  {
   "cell_type": "code",
   "execution_count": 39,
   "id": "7b6ddcd7",
   "metadata": {},
   "outputs": [
    {
     "name": "stdout",
     "output_type": "stream",
     "text": [
      "florence_the_machine\n"
     ]
    }
   ],
   "source": [
    "print()\n",
    "print(\"Enter an artist name from the list above:\")\n",
    "target_artist = input()"
   ]
  },
  {
   "cell_type": "code",
   "execution_count": 6,
   "id": "c6a042ef",
   "metadata": {},
   "outputs": [
    {
     "name": "stdout",
     "output_type": "stream",
     "text": [
      "\n",
      "A\n",
      "Addicted To Love\n",
      "All This And Heaven Too\n",
      "\n",
      "B\n",
      "Between Two Lungs\n",
      "Blinding\n",
      "Breaking Down\n",
      "\n",
      "C\n",
      "Cosmic Love\n",
      "\n",
      "D\n",
      "Dog Days Are Over\n",
      "Drumming Song\n",
      "\n",
      "G\n",
      "Girl With One Eye\n",
      "\n",
      "H\n",
      "Heartlines\n",
      "Hurricane Drunk\n",
      "\n",
      "I\n",
      "I'm Not Calling You A Liar\n",
      "\n",
      "K\n",
      "Kiss With A Fist\n",
      "\n",
      "L\n",
      "Leave My Body\n",
      "Lover To Lover\n",
      "\n",
      "M\n",
      "My Boy Builds Coffins\n",
      "\n",
      "N\n",
      "Never Let Me Go\n",
      "No Light No Light\n",
      "\n",
      "O\n",
      "Only If For A Night\n",
      "\n",
      "R\n",
      "Rabbit Heart (Raise It Up)\n",
      "\n",
      "S\n",
      "Seven Devils\n",
      "Shake It Out\n",
      "Spectrum\n",
      "\n",
      "W\n",
      "What The Water Gave Me\n",
      "\n",
      "Y\n",
      "You've Got The Love\n"
     ]
    },
    {
     "data": {
      "text/plain": [
       "1"
      ]
     },
     "execution_count": 6,
     "metadata": {},
     "output_type": "execute_result"
    }
   ],
   "source": [
    "'''\n",
    "To view the discography\n",
    "'''\n",
    "\n",
    "print_lexic_order_with_first_letter(collect_song_list(target_artist))"
   ]
  },
  {
   "cell_type": "code",
   "execution_count": 7,
   "id": "129f2282",
   "metadata": {},
   "outputs": [],
   "source": [
    "'''\n",
    "To choose the song:\n",
    "'''\n",
    "\n",
    "target_song = 'No Light No Light'\n"
   ]
  },
  {
   "cell_type": "code",
   "execution_count": 15,
   "id": "5fcc50ad",
   "metadata": {},
   "outputs": [],
   "source": [
    "# print()\n",
    "# print(\"Enter an song name from the list above:\")\n",
    "# target_song = input()"
   ]
  },
  {
   "cell_type": "markdown",
   "id": "b3dda60b",
   "metadata": {},
   "source": [
    "# 2. Text-based Recommender"
   ]
  },
  {
   "cell_type": "code",
   "execution_count": 8,
   "id": "07257a64",
   "metadata": {},
   "outputs": [],
   "source": [
    "\n",
    "def to_recommend_lyrics(df, column, target_key):\n",
    "    # Instantiate the vectorizer object and transform the plot column\n",
    "    vectorizer = TfidfVectorizer(max_df=0.7, min_df=2)\n",
    "    vectorized_data = vectorizer.fit_transform(df[column])\n",
    "\n",
    "    # Create Dataframe from TF-IDFarray\n",
    "    tfidf_df = pd.DataFrame(vectorized_data.toarray(), columns=vectorizer.get_feature_names_out())\n",
    "\n",
    "    # Assign the song titles to the index and inspect\n",
    "    tfidf_df.index = df.index\n",
    "\n",
    "    # Create the array of cosine similarity values\n",
    "    cosine_similarity_array = cosine_similarity(tfidf_df)\n",
    "\n",
    "    # Wrap the array in a pandas DataFrame\n",
    "    cosine_similarity_df = pd.DataFrame(cosine_similarity_array, index=tfidf_df.index, columns=tfidf_df.index)\n",
    "\n",
    "    # Find the values for the target song\n",
    "    cosine_similarity_series = cosine_similarity_df.loc[target_key]\n",
    "\n",
    "    # Sort these values highest to lowest\n",
    "    ordered_similarities = cosine_similarity_series.sort_values(ascending=False)\n",
    "\n",
    "    return ordered_similarities\n"
   ]
  },
  {
   "cell_type": "code",
   "execution_count": 9,
   "id": "655e85a1",
   "metadata": {},
   "outputs": [],
   "source": [
    "def top_recommended_lyrics(artist, song, n):\n",
    "    \"\"\"Returns list of Top-`n` song lyrics which are most similar to song \n",
    "    with `artist` artist name and `song` song name.\n",
    "    \n",
    "    Args:\n",
    "        artist (str): The artist name.\n",
    "        song (str): The song name.\n",
    "        n (int): The number of most similar songs.\n",
    "    \n",
    "    Returns:\n",
    "        DataFrame\n",
    "    \"\"\"\n",
    "    full_discography_df2 = collect_full_discography()\n",
    "    target_key = full_discography_df2[\n",
    "        (full_discography_df2['artist'] == artist) &\n",
    "        (full_discography_df2['song'] == song)\n",
    "    ].index[0]\n",
    "    similar_df = pd.DataFrame(to_recommend_lyrics(full_discography_df2, 'lyrics', target_key)).rename(columns={target_key:'similarity_score'})\n",
    "    similar_df2 = similar_df.join(full_discography_df2).reset_index(drop=True)[['similarity_score','artist','album','song']]\n",
    "\n",
    "    return similar_df2[similar_df2.index.isin(list(range(1, n+1)))]\n"
   ]
  },
  {
   "cell_type": "code",
   "execution_count": 10,
   "id": "40ea1aba",
   "metadata": {},
   "outputs": [
    {
     "data": {
      "text/html": [
       "<div>\n",
       "<style scoped>\n",
       "    .dataframe tbody tr th:only-of-type {\n",
       "        vertical-align: middle;\n",
       "    }\n",
       "\n",
       "    .dataframe tbody tr th {\n",
       "        vertical-align: top;\n",
       "    }\n",
       "\n",
       "    .dataframe thead th {\n",
       "        text-align: right;\n",
       "    }\n",
       "</style>\n",
       "<table border=\"1\" class=\"dataframe\">\n",
       "  <thead>\n",
       "    <tr style=\"text-align: right;\">\n",
       "      <th></th>\n",
       "      <th>similarity_score</th>\n",
       "      <th>artist</th>\n",
       "      <th>album</th>\n",
       "      <th>song</th>\n",
       "    </tr>\n",
       "  </thead>\n",
       "  <tbody>\n",
       "    <tr>\n",
       "      <th>1</th>\n",
       "      <td>0.266883</td>\n",
       "      <td>bob_dylan</td>\n",
       "      <td>Nashville Skyline</td>\n",
       "      <td>One More Night</td>\n",
       "    </tr>\n",
       "    <tr>\n",
       "      <th>2</th>\n",
       "      <td>0.261312</td>\n",
       "      <td>bob_dylan</td>\n",
       "      <td>Slow Train Coming</td>\n",
       "      <td>Precious Angel</td>\n",
       "    </tr>\n",
       "    <tr>\n",
       "      <th>3</th>\n",
       "      <td>0.235382</td>\n",
       "      <td>u2</td>\n",
       "      <td>Fire/R.O.K.</td>\n",
       "      <td>The Ocean (Live From Boston)</td>\n",
       "    </tr>\n",
       "    <tr>\n",
       "      <th>4</th>\n",
       "      <td>0.235279</td>\n",
       "      <td>queen</td>\n",
       "      <td>Innuendo</td>\n",
       "      <td>I Want It All</td>\n",
       "    </tr>\n",
       "    <tr>\n",
       "      <th>5</th>\n",
       "      <td>0.215884</td>\n",
       "      <td>u2</td>\n",
       "      <td>Passengers: Original Soundtrack</td>\n",
       "      <td>Slug</td>\n",
       "    </tr>\n",
       "  </tbody>\n",
       "</table>\n",
       "</div>"
      ],
      "text/plain": [
       "   similarity_score     artist                            album  \\\n",
       "1          0.266883  bob_dylan                Nashville Skyline   \n",
       "2          0.261312  bob_dylan                Slow Train Coming   \n",
       "3          0.235382         u2                      Fire/R.O.K.   \n",
       "4          0.235279      queen                         Innuendo   \n",
       "5          0.215884         u2  Passengers: Original Soundtrack   \n",
       "\n",
       "                           song  \n",
       "1                One More Night  \n",
       "2                Precious Angel  \n",
       "3  The Ocean (Live From Boston)  \n",
       "4                 I Want It All  \n",
       "5                          Slug  "
      ]
     },
     "execution_count": 10,
     "metadata": {},
     "output_type": "execute_result"
    }
   ],
   "source": [
    "top_recommended_lyrics(target_artist, target_song, 5)"
   ]
  },
  {
   "cell_type": "code",
   "execution_count": null,
   "id": "bc048a73",
   "metadata": {},
   "outputs": [],
   "source": []
  },
  {
   "cell_type": "code",
   "execution_count": null,
   "id": "c1d565f4",
   "metadata": {},
   "outputs": [],
   "source": []
  },
  {
   "cell_type": "code",
   "execution_count": null,
   "id": "b49445dc",
   "metadata": {},
   "outputs": [],
   "source": []
  },
  {
   "cell_type": "code",
   "execution_count": null,
   "id": "231fbf2e",
   "metadata": {},
   "outputs": [],
   "source": []
  },
  {
   "cell_type": "markdown",
   "id": "512c6ace",
   "metadata": {},
   "source": [
    "# 4. User-profile Recommender"
   ]
  },
  {
   "cell_type": "code",
   "execution_count": 16,
   "id": "e1feb0ae",
   "metadata": {},
   "outputs": [
    {
     "data": {
      "text/html": [
       "<div>\n",
       "<style scoped>\n",
       "    .dataframe tbody tr th:only-of-type {\n",
       "        vertical-align: middle;\n",
       "    }\n",
       "\n",
       "    .dataframe tbody tr th {\n",
       "        vertical-align: top;\n",
       "    }\n",
       "\n",
       "    .dataframe thead th {\n",
       "        text-align: right;\n",
       "    }\n",
       "</style>\n",
       "<table border=\"1\" class=\"dataframe\">\n",
       "  <thead>\n",
       "    <tr style=\"text-align: right;\">\n",
       "      <th></th>\n",
       "      <th>artist</th>\n",
       "      <th>album</th>\n",
       "      <th>song</th>\n",
       "      <th>lyrics</th>\n",
       "      <th>link</th>\n",
       "    </tr>\n",
       "    <tr>\n",
       "      <th>key</th>\n",
       "      <th></th>\n",
       "      <th></th>\n",
       "      <th></th>\n",
       "      <th></th>\n",
       "      <th></th>\n",
       "    </tr>\n",
       "  </thead>\n",
       "  <tbody>\n",
       "    <tr>\n",
       "      <th>doors__An_American_Prayer__A_Feast_Of_Friends</th>\n",
       "      <td>doors</td>\n",
       "      <td>An American Prayer</td>\n",
       "      <td>A Feast Of Friends</td>\n",
       "      <td>Wow, I'm sick of doubt\\nLive in the light of c...</td>\n",
       "      <td>https://www.allthelyrics.com/lyrics/doors/a_fe...</td>\n",
       "    </tr>\n",
       "    <tr>\n",
       "      <th>doors__Absolutely_Live__A_Little_Game</th>\n",
       "      <td>doors</td>\n",
       "      <td>Absolutely Live</td>\n",
       "      <td>A Little Game</td>\n",
       "      <td>Once I had a little game\\nI liked to crawl bac...</td>\n",
       "      <td>https://www.allthelyrics.com/lyrics/doors/a_li...</td>\n",
       "    </tr>\n",
       "  </tbody>\n",
       "</table>\n",
       "</div>"
      ],
      "text/plain": [
       "                                              artist               album  \\\n",
       "key                                                                        \n",
       "doors__An_American_Prayer__A_Feast_Of_Friends  doors  An American Prayer   \n",
       "doors__Absolutely_Live__A_Little_Game          doors     Absolutely Live   \n",
       "\n",
       "                                                             song  \\\n",
       "key                                                                 \n",
       "doors__An_American_Prayer__A_Feast_Of_Friends  A Feast Of Friends   \n",
       "doors__Absolutely_Live__A_Little_Game               A Little Game   \n",
       "\n",
       "                                                                                          lyrics  \\\n",
       "key                                                                                                \n",
       "doors__An_American_Prayer__A_Feast_Of_Friends  Wow, I'm sick of doubt\\nLive in the light of c...   \n",
       "doors__Absolutely_Live__A_Little_Game          Once I had a little game\\nI liked to crawl bac...   \n",
       "\n",
       "                                                                                            link  \n",
       "key                                                                                               \n",
       "doors__An_American_Prayer__A_Feast_Of_Friends  https://www.allthelyrics.com/lyrics/doors/a_fe...  \n",
       "doors__Absolutely_Live__A_Little_Game          https://www.allthelyrics.com/lyrics/doors/a_li...  "
      ]
     },
     "execution_count": 16,
     "metadata": {},
     "output_type": "execute_result"
    }
   ],
   "source": [
    "full_discography_df2 = collect_full_discography()\n",
    "full_discography_df2.head(2)"
   ]
  },
  {
   "cell_type": "code",
   "execution_count": null,
   "id": "b8785d2a",
   "metadata": {},
   "outputs": [],
   "source": [
    "'''\n",
    "define the set of your favourite songs\n",
    "and \n",
    "learn the most similar songs from the rest of the full discography\n",
    "'''"
   ]
  },
  {
   "cell_type": "code",
   "execution_count": 79,
   "id": "aaf591b2",
   "metadata": {},
   "outputs": [],
   "source": [
    "my_favourite_songs_list = [\n",
    "    ['queen', \"\", \"Don't Stop Me Now\"],\n",
    "    ['queen', \"\", \"Under Pressure\"],\n",
    "    ['lana_del_rey', \"\", \"Blue Jeans\"],\n",
    "    ['rainbow', \"\", \"Stargazer\"],\n",
    "    ['guns_n_roses', \"\", \"You Could Be Mine\"]\n",
    "]"
   ]
  },
  {
   "cell_type": "code",
   "execution_count": 82,
   "id": "cdc46b96",
   "metadata": {},
   "outputs": [
    {
     "data": {
      "text/html": [
       "<div>\n",
       "<style scoped>\n",
       "    .dataframe tbody tr th:only-of-type {\n",
       "        vertical-align: middle;\n",
       "    }\n",
       "\n",
       "    .dataframe tbody tr th {\n",
       "        vertical-align: top;\n",
       "    }\n",
       "\n",
       "    .dataframe thead th {\n",
       "        text-align: right;\n",
       "    }\n",
       "</style>\n",
       "<table border=\"1\" class=\"dataframe\">\n",
       "  <thead>\n",
       "    <tr style=\"text-align: right;\">\n",
       "      <th></th>\n",
       "      <th>artist</th>\n",
       "      <th>song</th>\n",
       "    </tr>\n",
       "  </thead>\n",
       "  <tbody>\n",
       "    <tr>\n",
       "      <th>0</th>\n",
       "      <td>queen</td>\n",
       "      <td>Don't Stop Me Now</td>\n",
       "    </tr>\n",
       "    <tr>\n",
       "      <th>1</th>\n",
       "      <td>queen</td>\n",
       "      <td>Under Pressure</td>\n",
       "    </tr>\n",
       "    <tr>\n",
       "      <th>2</th>\n",
       "      <td>lana_del_rey</td>\n",
       "      <td>Blue Jeans</td>\n",
       "    </tr>\n",
       "    <tr>\n",
       "      <th>3</th>\n",
       "      <td>rainbow</td>\n",
       "      <td>Stargazer</td>\n",
       "    </tr>\n",
       "    <tr>\n",
       "      <th>4</th>\n",
       "      <td>guns_n_roses</td>\n",
       "      <td>You Could Be Mine</td>\n",
       "    </tr>\n",
       "  </tbody>\n",
       "</table>\n",
       "</div>"
      ],
      "text/plain": [
       "         artist               song\n",
       "0         queen  Don't Stop Me Now\n",
       "1         queen     Under Pressure\n",
       "2  lana_del_rey         Blue Jeans\n",
       "3       rainbow          Stargazer\n",
       "4  guns_n_roses  You Could Be Mine"
      ]
     },
     "execution_count": 82,
     "metadata": {},
     "output_type": "execute_result"
    }
   ],
   "source": [
    "my_favourite_songs_df = pd.DataFrame(my_favourite_songs_list)\n",
    "my_favourite_songs_df.columns = ['artist', 'album_0', 'song']\n",
    "my_favourite_songs_df = my_favourite_songs_df.drop(['album_0'], axis=1)\n",
    "my_favourite_songs_df"
   ]
  },
  {
   "cell_type": "code",
   "execution_count": 102,
   "id": "e14be0b9",
   "metadata": {},
   "outputs": [
    {
     "data": {
      "text/plain": [
       "['guns_n_roses__Use_Your_Illusion_II__You_Could_Be_Mine',\n",
       " \"queen__Greatest_Hits__Don't_Stop_Me_Now\",\n",
       " 'queen__Innuendo__Under_Pressure',\n",
       " 'lana_del_rey__-__Blue_Jeans',\n",
       " 'rainbow__Rising__Stargazer']"
      ]
     },
     "execution_count": 102,
     "metadata": {},
     "output_type": "execute_result"
    }
   ],
   "source": [
    "df3 = full_discography_df2.merge(my_favourite_songs_df, how='inner', on=['artist', 'song'])\n",
    "df3['key'] = df3.apply(lambda x: x['artist'] + '__' + '_'.join(x['album'].split()) + '__' + '_'.join(x['song'].split()), axis=1)\n",
    "df3 = df3.set_index('key')\n",
    "# df3.index\n",
    "\n",
    "my_favourite_songs = list(df3.index)\n",
    "my_favourite_songs\n"
   ]
  },
  {
   "cell_type": "code",
   "execution_count": 107,
   "id": "5023db5b",
   "metadata": {},
   "outputs": [],
   "source": [
    "\n",
    "def to_recommend_lyrics_by_set(df, target_list):\n",
    "    vectorizer = TfidfVectorizer(max_df=0.7, min_df=2)\n",
    "    vectorized_data = vectorizer.fit_transform(df['lyrics'])\n",
    "\n",
    "    # Create Dataframe from TF-IDFarray\n",
    "    tfidf_df = pd.DataFrame(vectorized_data.toarray(), columns=vectorizer.get_feature_names_out())\n",
    "\n",
    "    # Assign the songs titles to the index and inspect\n",
    "    tfidf_df.index = df.index\n",
    "\n",
    "    # Create a subset of only the songs the user has enjoyed\n",
    "    songs_enjoyed_df = tfidf_df.reindex(target_list)\n",
    "\n",
    "    # Generate the user profile by finding the average scores of songs they enjoyed\n",
    "    user_prof = songs_enjoyed_df.mean()\n",
    "\n",
    "    # Find subset of tfidf_df that does not include songs in target_list\n",
    "    tfidf_subset_df = tfidf_df.drop(target_list, axis=0)\n",
    "\n",
    "    # Calculate the cosine_similarity and wrap it in a DataFrame\n",
    "    similarity_array = cosine_similarity(user_prof.values.reshape(1, -1), tfidf_subset_df)\n",
    "    similarity_df = pd.DataFrame(similarity_array.T, index=tfidf_subset_df.index, columns=[\"similarity_score\"])\n",
    "\n",
    "    # Sort the values from high to low by the values in the similarity_score\n",
    "    sorted_similarity_df = similarity_df.sort_values(by=\"similarity_score\", ascending=False)\n",
    "\n",
    "    return sorted_similarity_df\n",
    "\n"
   ]
  },
  {
   "cell_type": "code",
   "execution_count": 109,
   "id": "50f69f69",
   "metadata": {},
   "outputs": [
    {
     "data": {
      "text/html": [
       "<div>\n",
       "<style scoped>\n",
       "    .dataframe tbody tr th:only-of-type {\n",
       "        vertical-align: middle;\n",
       "    }\n",
       "\n",
       "    .dataframe tbody tr th {\n",
       "        vertical-align: top;\n",
       "    }\n",
       "\n",
       "    .dataframe thead th {\n",
       "        text-align: right;\n",
       "    }\n",
       "</style>\n",
       "<table border=\"1\" class=\"dataframe\">\n",
       "  <thead>\n",
       "    <tr style=\"text-align: right;\">\n",
       "      <th></th>\n",
       "      <th>similarity_score</th>\n",
       "      <th>artist</th>\n",
       "      <th>album</th>\n",
       "      <th>song</th>\n",
       "    </tr>\n",
       "  </thead>\n",
       "  <tbody>\n",
       "    <tr>\n",
       "      <th>0</th>\n",
       "      <td>0.409980</td>\n",
       "      <td>queen</td>\n",
       "      <td>Disc: 2</td>\n",
       "      <td>Another One Bites The Dust</td>\n",
       "    </tr>\n",
       "    <tr>\n",
       "      <th>1</th>\n",
       "      <td>0.409980</td>\n",
       "      <td>queen</td>\n",
       "      <td>Greatest Hits III</td>\n",
       "      <td>We Will Rock You</td>\n",
       "    </tr>\n",
       "    <tr>\n",
       "      <th>2</th>\n",
       "      <td>0.409980</td>\n",
       "      <td>queen</td>\n",
       "      <td>Live At Wembley '86</td>\n",
       "      <td>We Are The Champions</td>\n",
       "    </tr>\n",
       "    <tr>\n",
       "      <th>3</th>\n",
       "      <td>0.409980</td>\n",
       "      <td>queen</td>\n",
       "      <td>Greatest Hits</td>\n",
       "      <td>Bicycle Race</td>\n",
       "    </tr>\n",
       "    <tr>\n",
       "      <th>4</th>\n",
       "      <td>0.313669</td>\n",
       "      <td>bob_dylan</td>\n",
       "      <td>Knocked Out Loaded</td>\n",
       "      <td>Brownsville Girl</td>\n",
       "    </tr>\n",
       "    <tr>\n",
       "      <th>5</th>\n",
       "      <td>0.301823</td>\n",
       "      <td>guns_n_roses</td>\n",
       "      <td>Use Your Illusion I</td>\n",
       "      <td>Coma</td>\n",
       "    </tr>\n",
       "  </tbody>\n",
       "</table>\n",
       "</div>"
      ],
      "text/plain": [
       "   similarity_score        artist                album  \\\n",
       "0          0.409980         queen              Disc: 2   \n",
       "1          0.409980         queen    Greatest Hits III   \n",
       "2          0.409980         queen  Live At Wembley '86   \n",
       "3          0.409980         queen        Greatest Hits   \n",
       "4          0.313669     bob_dylan   Knocked Out Loaded   \n",
       "5          0.301823  guns_n_roses  Use Your Illusion I   \n",
       "\n",
       "                         song  \n",
       "0  Another One Bites The Dust  \n",
       "1            We Will Rock You  \n",
       "2        We Are The Champions  \n",
       "3                Bicycle Race  \n",
       "4            Brownsville Girl  \n",
       "5                        Coma  "
      ]
     },
     "execution_count": 109,
     "metadata": {},
     "output_type": "execute_result"
    }
   ],
   "source": [
    "similar_by_set_df = to_recommend_lyrics_by_set(full_discography_df2, my_favourite_songs)\n",
    "\n",
    "similar_df_head3 = top_of_similarity(similar_by_set_df, 0.3)\n",
    "similar_df_head3.join(full_discography_df2).reset_index(drop=True)[['similarity_score','artist','album','song']]\n"
   ]
  },
  {
   "cell_type": "code",
   "execution_count": null,
   "id": "1c5b9987",
   "metadata": {},
   "outputs": [],
   "source": []
  },
  {
   "cell_type": "code",
   "execution_count": null,
   "id": "2c03425d",
   "metadata": {},
   "outputs": [],
   "source": []
  },
  {
   "cell_type": "code",
   "execution_count": null,
   "id": "167c4828",
   "metadata": {},
   "outputs": [],
   "source": []
  }
 ],
 "metadata": {
  "kernelspec": {
   "display_name": "Python 3 (ipykernel)",
   "language": "python",
   "name": "python3"
  },
  "language_info": {
   "codemirror_mode": {
    "name": "ipython",
    "version": 3
   },
   "file_extension": ".py",
   "mimetype": "text/x-python",
   "name": "python",
   "nbconvert_exporter": "python",
   "pygments_lexer": "ipython3",
   "version": "3.11.1"
  }
 },
 "nbformat": 4,
 "nbformat_minor": 5
}
