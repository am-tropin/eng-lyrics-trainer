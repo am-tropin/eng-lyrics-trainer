{
 "cells": [
  {
   "cell_type": "code",
   "execution_count": 1,
   "id": "b7cc6b63",
   "metadata": {},
   "outputs": [],
   "source": [
    "import pandas as pd"
   ]
  },
  {
   "cell_type": "code",
   "execution_count": 2,
   "id": "69581442",
   "metadata": {},
   "outputs": [],
   "source": [
    "from sklearn.feature_extraction.text import TfidfVectorizer\n",
    "from sklearn.metrics.pairwise import cosine_similarity\n"
   ]
  },
  {
   "cell_type": "code",
   "execution_count": 16,
   "id": "db301297",
   "metadata": {},
   "outputs": [],
   "source": [
    "import nltk\n",
    "stopwords = nltk.corpus.stopwords.words('english')"
   ]
  },
  {
   "cell_type": "code",
   "execution_count": 3,
   "id": "c6a6a50b",
   "metadata": {},
   "outputs": [],
   "source": [
    "# import sys\n",
    "# sys.path.append('../')\n",
    "from functions.function_store import print_lexic_order_with_first_letter, collect_artist_list, collect_song_list, collect_full_discography\n"
   ]
  },
  {
   "cell_type": "markdown",
   "id": "d25dc67e",
   "metadata": {},
   "source": [
    "# 1. Choosing the song for comparison"
   ]
  },
  {
   "cell_type": "code",
   "execution_count": 4,
   "id": "930c9b4c",
   "metadata": {},
   "outputs": [
    {
     "name": "stdout",
     "output_type": "stream",
     "text": [
      "\n",
      "B\n",
      "black_sabbath\n",
      "blondie\n",
      "bob_dylan\n",
      "\n",
      "D\n",
      "depeche_mode\n",
      "dio\n",
      "doors\n",
      "\n",
      "E\n",
      "elf\n",
      "\n",
      "F\n",
      "florence_the_machine\n",
      "franz_ferdinand\n",
      "\n",
      "G\n",
      "guns_n_roses\n",
      "\n",
      "I\n",
      "imagine_dragons\n",
      "\n",
      "K\n",
      "kasabian\n",
      "\n",
      "L\n",
      "lana_del_rey\n",
      "\n",
      "M\n",
      "muse\n",
      "\n",
      "Q\n",
      "queen\n",
      "\n",
      "R\n",
      "rainbow\n",
      "roxette\n",
      "\n",
      "U\n",
      "u2\n",
      "\n",
      "W\n",
      "within_temptation\n"
     ]
    },
    {
     "data": {
      "text/plain": [
       "1"
      ]
     },
     "execution_count": 4,
     "metadata": {},
     "output_type": "execute_result"
    }
   ],
   "source": [
    "'''\n",
    "To view the collection\n",
    "'''\n",
    "\n",
    "# path = \"discography/\"\n",
    "artist_list = collect_artist_list()\n",
    "\n",
    "print_lexic_order_with_first_letter(artist_list)\n"
   ]
  },
  {
   "cell_type": "code",
   "execution_count": 5,
   "id": "1fd8bcfc",
   "metadata": {},
   "outputs": [],
   "source": [
    "'''\n",
    "To choose the artist\n",
    "'''\n",
    "\n",
    "target_artist = 'florence_the_machine'\n",
    "# 'florence_the_machine'"
   ]
  },
  {
   "cell_type": "code",
   "execution_count": 39,
   "id": "7fc80a78",
   "metadata": {},
   "outputs": [
    {
     "name": "stdout",
     "output_type": "stream",
     "text": [
      "florence_the_machine\n"
     ]
    }
   ],
   "source": [
    "print()\n",
    "print(\"Enter an artist name from the list above:\")\n",
    "target_artist = input()"
   ]
  },
  {
   "cell_type": "code",
   "execution_count": 6,
   "id": "c6a042ef",
   "metadata": {},
   "outputs": [
    {
     "name": "stdout",
     "output_type": "stream",
     "text": [
      "\n",
      "A\n",
      "Addicted To Love\n",
      "All This And Heaven Too\n",
      "\n",
      "B\n",
      "Between Two Lungs\n",
      "Blinding\n",
      "Breaking Down\n",
      "\n",
      "C\n",
      "Cosmic Love\n",
      "\n",
      "D\n",
      "Dog Days Are Over\n",
      "Drumming Song\n",
      "\n",
      "G\n",
      "Girl With One Eye\n",
      "\n",
      "H\n",
      "Heartlines\n",
      "Hurricane Drunk\n",
      "\n",
      "I\n",
      "I'm Not Calling You A Liar\n",
      "\n",
      "K\n",
      "Kiss With A Fist\n",
      "\n",
      "L\n",
      "Leave My Body\n",
      "Lover To Lover\n",
      "\n",
      "M\n",
      "My Boy Builds Coffins\n",
      "\n",
      "N\n",
      "Never Let Me Go\n",
      "No Light No Light\n",
      "\n",
      "O\n",
      "Only If For A Night\n",
      "\n",
      "R\n",
      "Rabbit Heart (Raise It Up)\n",
      "\n",
      "S\n",
      "Seven Devils\n",
      "Shake It Out\n",
      "Spectrum\n",
      "\n",
      "W\n",
      "What The Water Gave Me\n",
      "\n",
      "Y\n",
      "You've Got The Love\n"
     ]
    },
    {
     "data": {
      "text/plain": [
       "1"
      ]
     },
     "execution_count": 6,
     "metadata": {},
     "output_type": "execute_result"
    }
   ],
   "source": [
    "'''\n",
    "To view the discography\n",
    "'''\n",
    "\n",
    "print_lexic_order_with_first_letter(collect_song_list(target_artist))"
   ]
  },
  {
   "cell_type": "code",
   "execution_count": 7,
   "id": "129f2282",
   "metadata": {},
   "outputs": [],
   "source": [
    "'''\n",
    "To choose the song:\n",
    "'''\n",
    "\n",
    "target_song = 'No Light No Light'\n"
   ]
  },
  {
   "cell_type": "code",
   "execution_count": 15,
   "id": "5fcc50ad",
   "metadata": {},
   "outputs": [],
   "source": [
    "# print()\n",
    "# print(\"Enter an song name from the list above:\")\n",
    "# target_song = input()"
   ]
  },
  {
   "cell_type": "code",
   "execution_count": 8,
   "id": "f5c9d8d4",
   "metadata": {},
   "outputs": [],
   "source": [
    "# for user-based recommender\n",
    "\n",
    "target_songs_list = [\n",
    "#     ['queen', \"Don't Stop Me Now\"],\n",
    "    ['queen', \"Under Pressure\"],\n",
    "    ['lana_del_rey', \"Blue Jeans\"],\n",
    "    ['rainbow', \"Stargazer\"],\n",
    "    ['guns_n_roses', \"You Could Be Mine\"]\n",
    "]"
   ]
  },
  {
   "cell_type": "markdown",
   "id": "b3dda60b",
   "metadata": {},
   "source": [
    "# 2. Text-based Recommender"
   ]
  },
  {
   "cell_type": "code",
   "execution_count": 17,
   "id": "07257a64",
   "metadata": {},
   "outputs": [],
   "source": [
    "\n",
    "def to_recommend_lyrics(df, column, target_key):\n",
    "    # Instantiate the vectorizer object and transform the plot column\n",
    "    vectorizer = TfidfVectorizer(max_df=0.7, min_df=2, stop_words=stopwords)\n",
    "    vectorized_data = vectorizer.fit_transform(df[column])\n",
    "\n",
    "    # Create Dataframe from TF-IDFarray\n",
    "    tfidf_df = pd.DataFrame(vectorized_data.toarray(), columns=vectorizer.get_feature_names_out())\n",
    "\n",
    "    # Assign the song titles to the index and inspect\n",
    "    tfidf_df.index = df.index\n",
    "\n",
    "    # Create the array of cosine similarity values\n",
    "    cosine_similarity_array = cosine_similarity(tfidf_df)\n",
    "\n",
    "    # Wrap the array in a pandas DataFrame\n",
    "    cosine_similarity_df = pd.DataFrame(cosine_similarity_array, index=tfidf_df.index, columns=tfidf_df.index)\n",
    "\n",
    "    # Find the values for the target song\n",
    "    cosine_similarity_series = cosine_similarity_df.loc[target_key]\n",
    "\n",
    "    # Sort these values highest to lowest\n",
    "    ordered_similarities = cosine_similarity_series.sort_values(ascending=False)\n",
    "\n",
    "    return ordered_similarities\n"
   ]
  },
  {
   "cell_type": "code",
   "execution_count": 18,
   "id": "a4ab0c2f",
   "metadata": {},
   "outputs": [],
   "source": [
    "def top_recommended_lyrics(artist, song, n):\n",
    "    \"\"\"Returns list of Top-`n` song lyrics which are most similar to song \n",
    "    with `artist` artist name and `song` song name.\n",
    "    \n",
    "    Args:\n",
    "        artist (str): The artist name.\n",
    "        song (str): The song name.\n",
    "        n (int): The number of most similar songs.\n",
    "    \n",
    "    Returns:\n",
    "        DataFrame\n",
    "    \"\"\"\n",
    "    full_discography_df2 = collect_full_discography()\n",
    "    target_key = full_discography_df2[\n",
    "        (full_discography_df2['artist'] == artist) &\n",
    "        (full_discography_df2['song'] == song)\n",
    "    ].index[0] # select only one key in case of song duplicates\n",
    "    \n",
    "    similar_df = pd.DataFrame(to_recommend_lyrics(full_discography_df2, 'lyrics', target_key)).rename(columns={target_key:'similarity_score'})\n",
    "    similar_df2 = similar_df.join(full_discography_df2).reset_index(drop=True)[['similarity_score','artist','album','song']]\n",
    "\n",
    "    return similar_df2[similar_df2.index.isin(list(range(1, n+1)))]\n"
   ]
  },
  {
   "cell_type": "code",
   "execution_count": 24,
   "id": "ea679685",
   "metadata": {},
   "outputs": [],
   "source": [
    "# help(top_recommended_lyrics)"
   ]
  },
  {
   "cell_type": "code",
   "execution_count": 19,
   "id": "40ea1aba",
   "metadata": {},
   "outputs": [
    {
     "data": {
      "text/html": [
       "<div>\n",
       "<style scoped>\n",
       "    .dataframe tbody tr th:only-of-type {\n",
       "        vertical-align: middle;\n",
       "    }\n",
       "\n",
       "    .dataframe tbody tr th {\n",
       "        vertical-align: top;\n",
       "    }\n",
       "\n",
       "    .dataframe thead th {\n",
       "        text-align: right;\n",
       "    }\n",
       "</style>\n",
       "<table border=\"1\" class=\"dataframe\">\n",
       "  <thead>\n",
       "    <tr style=\"text-align: right;\">\n",
       "      <th></th>\n",
       "      <th>similarity_score</th>\n",
       "      <th>artist</th>\n",
       "      <th>album</th>\n",
       "      <th>song</th>\n",
       "    </tr>\n",
       "  </thead>\n",
       "  <tbody>\n",
       "    <tr>\n",
       "      <th>1</th>\n",
       "      <td>0.253054</td>\n",
       "      <td>queen</td>\n",
       "      <td>Innuendo</td>\n",
       "      <td>I Want It All</td>\n",
       "    </tr>\n",
       "    <tr>\n",
       "      <th>2</th>\n",
       "      <td>0.252719</td>\n",
       "      <td>u2</td>\n",
       "      <td>Passengers: Original Soundtrack</td>\n",
       "      <td>Slug</td>\n",
       "    </tr>\n",
       "    <tr>\n",
       "      <th>3</th>\n",
       "      <td>0.242378</td>\n",
       "      <td>bob_dylan</td>\n",
       "      <td>Slow Train Coming</td>\n",
       "      <td>Precious Angel</td>\n",
       "    </tr>\n",
       "    <tr>\n",
       "      <th>4</th>\n",
       "      <td>0.215553</td>\n",
       "      <td>bob_dylan</td>\n",
       "      <td>Nashville Skyline</td>\n",
       "      <td>One More Night</td>\n",
       "    </tr>\n",
       "    <tr>\n",
       "      <th>5</th>\n",
       "      <td>0.207136</td>\n",
       "      <td>depeche_mode</td>\n",
       "      <td>Black Celebration</td>\n",
       "      <td>If You Want</td>\n",
       "    </tr>\n",
       "  </tbody>\n",
       "</table>\n",
       "</div>"
      ],
      "text/plain": [
       "   similarity_score        artist                            album  \\\n",
       "1          0.253054         queen                         Innuendo   \n",
       "2          0.252719            u2  Passengers: Original Soundtrack   \n",
       "3          0.242378     bob_dylan                Slow Train Coming   \n",
       "4          0.215553     bob_dylan                Nashville Skyline   \n",
       "5          0.207136  depeche_mode                Black Celebration   \n",
       "\n",
       "             song  \n",
       "1   I Want It All  \n",
       "2            Slug  \n",
       "3  Precious Angel  \n",
       "4  One More Night  \n",
       "5     If You Want  "
      ]
     },
     "execution_count": 19,
     "metadata": {},
     "output_type": "execute_result"
    }
   ],
   "source": [
    "top_recommended_lyrics(target_artist, target_song, 5)"
   ]
  },
  {
   "cell_type": "markdown",
   "id": "512c6ace",
   "metadata": {},
   "source": [
    "# 3. User-profile Recommender"
   ]
  },
  {
   "cell_type": "code",
   "execution_count": 20,
   "id": "4aeb7214",
   "metadata": {},
   "outputs": [],
   "source": [
    "\n",
    "def to_recommend_lyrics_by_set(df, column, target_list):\n",
    "    # Instantiate the vectorizer object and transform the plot column\n",
    "    vectorizer = TfidfVectorizer(max_df=0.7, min_df=2, stop_words=stopwords)\n",
    "    vectorized_data = vectorizer.fit_transform(df[column])\n",
    "\n",
    "    # Create Dataframe from TF-IDFarray\n",
    "    tfidf_df = pd.DataFrame(vectorized_data.toarray(), columns=vectorizer.get_feature_names_out())\n",
    "\n",
    "    # Assign the song titles to the index and inspect\n",
    "    tfidf_df.index = df.index\n",
    "    \n",
    "    # Create a subset of only the songs the user has enjoyed\n",
    "    songs_enjoyed_df = tfidf_df.reindex(target_list)\n",
    "\n",
    "    # Generate the user profile by finding the average scores of songs they enjoyed\n",
    "    user_prof = songs_enjoyed_df.mean()\n",
    "\n",
    "    # Find subset of tfidf_df that does not include songs in target_list\n",
    "    tfidf_subset_df = tfidf_df.drop(target_list, axis=0)\n",
    "\n",
    "    # Calculate the cosine_similarity and wrap it in a DataFrame\n",
    "    similarity_array = cosine_similarity(user_prof.values.reshape(1, -1), tfidf_subset_df)\n",
    "    similarity_df = pd.DataFrame(similarity_array.T, index=tfidf_subset_df.index, columns=[\"similarity_score\"])\n",
    "\n",
    "    # Sort the values from high to low by the values in the similarity_score\n",
    "    sorted_similarity_df = similarity_df.sort_values(by=\"similarity_score\", ascending=False)\n",
    "\n",
    "    return sorted_similarity_df\n"
   ]
  },
  {
   "cell_type": "code",
   "execution_count": 21,
   "id": "66909b9a",
   "metadata": {},
   "outputs": [],
   "source": [
    "def top_recommended_lyrics_by_set(user_list, n):\n",
    "    \"\"\"Returns list of Top-`n` song lyrics which are most similar to songs \n",
    "    with artist name and song name from `user_list`.\n",
    "    \n",
    "    Args:\n",
    "        user_list (list): \n",
    "        n (int): The number of most similar songs.\n",
    "    \n",
    "    Returns:\n",
    "        DataFrame\n",
    "    \"\"\"\n",
    "    full_discography_df2 = collect_full_discography()\n",
    "    my_favourite_songs = []\n",
    "\n",
    "    for row in user_list:\n",
    "        target_key = full_discography_df2[\n",
    "            (full_discography_df2['artist'] == row[0]) &\n",
    "            (full_discography_df2['song'] == row[1])\n",
    "        ].index[0] # select only one key in case of song duplicates\n",
    "        my_favourite_songs.append(target_key)\n",
    "    \n",
    "    similar_df = pd.DataFrame(to_recommend_lyrics_by_set(full_discography_df2, 'lyrics', my_favourite_songs)).rename(columns={target_key:'similarity_score'})\n",
    "    similar_df2 = similar_df.join(full_discography_df2).reset_index(drop=True)[['similarity_score','artist','album','song']]\n",
    "\n",
    "    return similar_df2[similar_df2.index.isin(list(range(n)))]\n"
   ]
  },
  {
   "cell_type": "code",
   "execution_count": 22,
   "id": "b37039a7",
   "metadata": {},
   "outputs": [
    {
     "data": {
      "text/html": [
       "<div>\n",
       "<style scoped>\n",
       "    .dataframe tbody tr th:only-of-type {\n",
       "        vertical-align: middle;\n",
       "    }\n",
       "\n",
       "    .dataframe tbody tr th {\n",
       "        vertical-align: top;\n",
       "    }\n",
       "\n",
       "    .dataframe thead th {\n",
       "        text-align: right;\n",
       "    }\n",
       "</style>\n",
       "<table border=\"1\" class=\"dataframe\">\n",
       "  <thead>\n",
       "    <tr style=\"text-align: right;\">\n",
       "      <th></th>\n",
       "      <th>similarity_score</th>\n",
       "      <th>artist</th>\n",
       "      <th>album</th>\n",
       "      <th>song</th>\n",
       "    </tr>\n",
       "  </thead>\n",
       "  <tbody>\n",
       "    <tr>\n",
       "      <th>0</th>\n",
       "      <td>0.421173</td>\n",
       "      <td>queen</td>\n",
       "      <td>Disc: 2</td>\n",
       "      <td>Another One Bites The Dust</td>\n",
       "    </tr>\n",
       "    <tr>\n",
       "      <th>1</th>\n",
       "      <td>0.421173</td>\n",
       "      <td>queen</td>\n",
       "      <td>Live At Wembley '86</td>\n",
       "      <td>We Are The Champions</td>\n",
       "    </tr>\n",
       "    <tr>\n",
       "      <th>2</th>\n",
       "      <td>0.421173</td>\n",
       "      <td>queen</td>\n",
       "      <td>Greatest Hits</td>\n",
       "      <td>Bicycle Race</td>\n",
       "    </tr>\n",
       "    <tr>\n",
       "      <th>3</th>\n",
       "      <td>0.421173</td>\n",
       "      <td>queen</td>\n",
       "      <td>Greatest Hits III</td>\n",
       "      <td>We Will Rock You</td>\n",
       "    </tr>\n",
       "    <tr>\n",
       "      <th>4</th>\n",
       "      <td>0.243328</td>\n",
       "      <td>dio</td>\n",
       "      <td>Lock Up The Wolves</td>\n",
       "      <td>My Eyes</td>\n",
       "    </tr>\n",
       "  </tbody>\n",
       "</table>\n",
       "</div>"
      ],
      "text/plain": [
       "   similarity_score artist                album                        song\n",
       "0          0.421173  queen              Disc: 2  Another One Bites The Dust\n",
       "1          0.421173  queen  Live At Wembley '86        We Are The Champions\n",
       "2          0.421173  queen        Greatest Hits                Bicycle Race\n",
       "3          0.421173  queen    Greatest Hits III            We Will Rock You\n",
       "4          0.243328    dio   Lock Up The Wolves                     My Eyes"
      ]
     },
     "execution_count": 22,
     "metadata": {},
     "output_type": "execute_result"
    }
   ],
   "source": [
    "top_recommended_lyrics_by_set(target_songs_list, 5)"
   ]
  },
  {
   "cell_type": "code",
   "execution_count": null,
   "id": "4b6b4412",
   "metadata": {},
   "outputs": [],
   "source": []
  },
  {
   "cell_type": "code",
   "execution_count": null,
   "id": "167c4828",
   "metadata": {},
   "outputs": [],
   "source": []
  }
 ],
 "metadata": {
  "kernelspec": {
   "display_name": "Python 3 (ipykernel)",
   "language": "python",
   "name": "python3"
  },
  "language_info": {
   "codemirror_mode": {
    "name": "ipython",
    "version": 3
   },
   "file_extension": ".py",
   "mimetype": "text/x-python",
   "name": "python",
   "nbconvert_exporter": "python",
   "pygments_lexer": "ipython3",
   "version": "3.11.1"
  }
 },
 "nbformat": 4,
 "nbformat_minor": 5
}
