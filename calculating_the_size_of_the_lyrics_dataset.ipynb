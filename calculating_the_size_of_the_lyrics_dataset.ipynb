{
 "cells": [
  {
   "cell_type": "code",
   "execution_count": 1,
   "id": "53946cd8",
   "metadata": {},
   "outputs": [],
   "source": [
    "import pandas as pd"
   ]
  },
  {
   "cell_type": "code",
   "execution_count": 2,
   "id": "45365343",
   "metadata": {},
   "outputs": [],
   "source": [
    "dataset_path = \"discography/\""
   ]
  },
  {
   "cell_type": "code",
   "execution_count": 7,
   "id": "d1c4f58b",
   "metadata": {},
   "outputs": [],
   "source": [
    "import os\n",
    "\n",
    "discographies = [f for f in os.listdir(dataset_path)]"
   ]
  },
  {
   "cell_type": "code",
   "execution_count": 8,
   "id": "06d53fe1",
   "metadata": {},
   "outputs": [
    {
     "data": {
      "text/plain": [
       "['doors_discography_allthelyrics.csv',\n",
       " 'guns_n_roses_discography_allthelyrics.csv',\n",
       " 'queen_discography_allthelyrics.csv',\n",
       " 'lana_del_rey_discography_allthelyrics.csv',\n",
       " 'roxette_discography_allthelyrics.csv',\n",
       " 'elf_discography_allthelyrics.csv',\n",
       " 'bob_dylan_discography_allthelyrics.csv',\n",
       " 'within_temptation_discography_allthelyrics.csv',\n",
       " 'depeche_mode_discography_allthelyrics.csv',\n",
       " 'kasabian_discography_allthelyrics.csv',\n",
       " 'blondie_discography_allthelyrics.csv',\n",
       " 'dio_discography_allthelyrics.csv',\n",
       " 'franz_ferdinand_discography_allthelyrics.csv',\n",
       " 'florence_the_machine_discography_allthelyrics.csv',\n",
       " 'imagine_dragons_discography_allthelyrics.csv',\n",
       " 'rainbow_discography_allthelyrics.csv',\n",
       " 'u2_discography_allthelyrics.csv',\n",
       " 'black_sabbath_discography_allthelyrics.csv',\n",
       " 'muse_discography_allthelyrics.csv']"
      ]
     },
     "execution_count": 8,
     "metadata": {},
     "output_type": "execute_result"
    }
   ],
   "source": [
    "discographies"
   ]
  },
  {
   "cell_type": "code",
   "execution_count": 13,
   "id": "a5740145",
   "metadata": {},
   "outputs": [
    {
     "name": "stdout",
     "output_type": "stream",
     "text": [
      "Artist: doors,\t\tSongs: 152\n",
      "Artist: guns_n_roses,\t\tSongs: 93\n",
      "Artist: queen,\t\tSongs: 196\n",
      "Artist: lana_del_rey,\t\tSongs: 9\n",
      "Artist: roxette,\t\tSongs: 180\n",
      "Artist: elf,\t\tSongs: 24\n",
      "Artist: bob_dylan,\t\tSongs: 502\n",
      "Artist: within_temptation,\t\tSongs: 56\n",
      "Artist: depeche_mode,\t\tSongs: 156\n",
      "Artist: kasabian,\t\tSongs: 6\n",
      "Artist: blondie,\t\tSongs: 207\n",
      "Artist: dio,\t\tSongs: 106\n",
      "Artist: franz_ferdinand,\t\tSongs: 40\n",
      "Artist: florence_the_machine,\t\tSongs: 25\n",
      "Artist: imagine_dragons,\t\tSongs: 49\n",
      "Artist: rainbow,\t\tSongs: 69\n",
      "Artist: u2,\t\tSongs: 250\n",
      "Artist: black_sabbath,\t\tSongs: 164\n",
      "Artist: muse,\t\tSongs: 80\n",
      "\n",
      "The dataset_size: 2364\n"
     ]
    }
   ],
   "source": [
    "size_counter = 0\n",
    "\n",
    "for f in discographies:\n",
    "    df = pd.read_csv(dataset_path + f, sep='\\t', encoding='utf-8')\n",
    "    print(\"Artist: {0},\\t\\tSongs: {1}\".format(f[:f.find(\"_discography_allthelyrics.csv\")], df.shape[0]))\n",
    "    size_counter += df.shape[0]\n",
    "\n",
    "print()\n",
    "print(\"The dataset_size:\", size_counter)"
   ]
  },
  {
   "cell_type": "code",
   "execution_count": null,
   "id": "082bec73",
   "metadata": {},
   "outputs": [],
   "source": []
  },
  {
   "cell_type": "code",
   "execution_count": null,
   "id": "e59dc627",
   "metadata": {},
   "outputs": [],
   "source": []
  },
  {
   "cell_type": "code",
   "execution_count": null,
   "id": "5afaa599",
   "metadata": {},
   "outputs": [],
   "source": []
  }
 ],
 "metadata": {
  "kernelspec": {
   "display_name": "Python 3 (ipykernel)",
   "language": "python",
   "name": "python3"
  },
  "language_info": {
   "codemirror_mode": {
    "name": "ipython",
    "version": 3
   },
   "file_extension": ".py",
   "mimetype": "text/x-python",
   "name": "python",
   "nbconvert_exporter": "python",
   "pygments_lexer": "ipython3",
   "version": "3.11.1"
  }
 },
 "nbformat": 4,
 "nbformat_minor": 5
}
