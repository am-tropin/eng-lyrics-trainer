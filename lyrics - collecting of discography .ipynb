{
 "cells": [
  {
   "cell_type": "code",
   "execution_count": null,
   "id": "a4a0d5dc",
   "metadata": {},
   "outputs": [],
   "source": [
    "'''\n",
    "https://www.allthelyrics.com/index\n",
    "'''"
   ]
  },
  {
   "cell_type": "markdown",
   "id": "ea05c393",
   "metadata": {},
   "source": [
    "# 1. Creation of a dictionary with lyrics"
   ]
  },
  {
   "cell_type": "code",
   "execution_count": null,
   "id": "263be030",
   "metadata": {},
   "outputs": [],
   "source": []
  },
  {
   "cell_type": "code",
   "execution_count": 1,
   "id": "c90977ae",
   "metadata": {},
   "outputs": [],
   "source": [
    "import requests\n",
    "from bs4 import Tag, NavigableString, BeautifulSoup\n",
    "# import re\n",
    "import pandas as pd\n",
    "import random\n",
    "import time\n"
   ]
  },
  {
   "cell_type": "code",
   "execution_count": 2,
   "id": "e3e9d8cd",
   "metadata": {},
   "outputs": [],
   "source": [
    "\n",
    "artist = \"within_temptation\"\n",
    "\n",
    "# done:\n",
    "\n",
    "# dio\n",
    "# black_sabbath\n",
    "# rainbow\n",
    "# elf\n",
    "\n",
    "# depeche_mode\n",
    "# \"imagine_dragons\"\n",
    "# \"rainbow\"\n",
    "# \"u2\"\n",
    "# \"roxette\"\n",
    "# \"kasabian\"  # a little\n",
    "# \"blondie\"\n",
    "# \"doors\"\n",
    "# \"guns_n_roses\"\n",
    "# \"lana_del_rey\"  # a little\n",
    "# \"florence_the_machine\"\n",
    "# \"franz_ferdinand\"\n",
    "# \"bob_dylan\"\n",
    "# \"queen\"\n",
    "# \"muse\"\n",
    "# \"florence_the_machine\""
   ]
  },
  {
   "cell_type": "code",
   "execution_count": 3,
   "id": "6de2a230",
   "metadata": {},
   "outputs": [],
   "source": [
    "\n",
    "url = 'https://www.allthelyrics.com/lyrics/' + artist\n",
    "req_announcement = requests.get(url)\n",
    "html_doc = req_announcement.text\n",
    "# print(html_doc)\n",
    "\n",
    "soup = BeautifulSoup(html_doc, 'html.parser')\n",
    "kek = soup.find_all('div', attrs={'id': ['lyricslist-left', 'lyricslist-right']})\n",
    "# kek"
   ]
  },
  {
   "cell_type": "code",
   "execution_count": 4,
   "id": "4a4def40",
   "metadata": {},
   "outputs": [
    {
     "name": "stdout",
     "output_type": "stream",
     "text": [
      "A Dangerous Mind \n",
      "All I Need \n",
      "Angels \n",
      "Another Day \n",
      "Aquarius \n",
      "Bittersweet \n",
      "Blue Eyes \n",
      "Caged \n",
      "Candles \n",
      "Dark Wings \n",
      "Deceiver Of Fools \n",
      "Deep Within \n",
      "Destroyed \n",
      "Enter \n",
      "Final Destination \n",
      "Forgiven \n",
      "Forsaken \n",
      "Frozen \n",
      "Grace \n",
      "Hand Of Sorrow \n",
      "Ice Queen \n",
      "Ice Queen (Live Acoustic Version) \n",
      "In Perfect Harmony \n",
      "It's The Fear \n",
      "Jane Doe \n",
      "Jillian (I'd Give My Heart) \n",
      "Memories \n",
      "Memories (Live) \n",
      "Mother Earth \n",
      "Mother Earth (Single Version) \n",
      "Never Ending Story (Live Acoustic Version) \n",
      "Never-ending Story \n",
      "Our Farewell \n",
      "Our Solemn Hour \n",
      "Overcome \n",
      "Pale \n",
      "Pearls Of Light \n",
      "Restless \n",
      "Restless (Classical Version) \n",
      "Say My Name \n",
      "See Who I Am \n",
      "Somewhere \n",
      "Stand My Ground \n",
      "The Cross \n",
      "The Dance \n",
      "The Gatekeeper \n",
      "The Heart Of Everything \n",
      "The Howling \n",
      "The Other Half (Of Me) \n",
      "The Promise \n",
      "The Swan Song \n",
      "The Truth Beneath The Rose \n",
      "Towards The End \n",
      "What Have You Done \n",
      "What Have You Done (Feat. Keith Caputo) \n",
      "World Of Make Believe \n"
     ]
    }
   ],
   "source": [
    "discography = {}\n",
    "\n",
    "for k in kek:\n",
    "    uuu = k.find_all('li')\n",
    "    for u in uuu:\n",
    "        discography[str.strip(u.text)] = {\n",
    "            'link': \"https://www.allthelyrics.com\" + u.find('a')['href']\n",
    "        }\n",
    "        print(u.text)"
   ]
  },
  {
   "cell_type": "code",
   "execution_count": null,
   "id": "f8951580",
   "metadata": {},
   "outputs": [],
   "source": []
  },
  {
   "cell_type": "code",
   "execution_count": 5,
   "id": "db379bfa",
   "metadata": {},
   "outputs": [
    {
     "name": "stdout",
     "output_type": "stream",
     "text": [
      "1 A Dangerous Mind\n",
      "2 All I Need\n",
      "3 Angels\n",
      "4 Another Day\n",
      "5 Aquarius\n",
      "6 Bittersweet\n",
      "7 Blue Eyes\n",
      "8 Caged\n",
      "9 Candles\n",
      "10 Dark Wings\n",
      "11 Deceiver Of Fools\n",
      "12 Deep Within\n",
      "13 Destroyed\n",
      "14 Enter\n",
      "15 Final Destination\n",
      "16 Forgiven\n",
      "17 Forsaken\n",
      "18 Frozen\n",
      "19 Grace\n",
      "20 Hand Of Sorrow\n",
      "21 Ice Queen\n",
      "22 Ice Queen (Live Acoustic Version)\n",
      "23 In Perfect Harmony\n",
      "24 It's The Fear\n",
      "25 Jane Doe\n",
      "26 Jillian (I'd Give My Heart)\n",
      "27 Memories\n",
      "28 Memories (Live)\n",
      "29 Mother Earth\n",
      "30 Mother Earth (Single Version)\n",
      "31 Never Ending Story (Live Acoustic Version)\n",
      "32 Never-ending Story\n",
      "33 Our Farewell\n",
      "34 Our Solemn Hour\n",
      "35 Overcome\n",
      "36 Pale\n",
      "37 Pearls Of Light\n",
      "38 Restless\n",
      "39 Restless (Classical Version)\n",
      "40 Say My Name\n",
      "41 See Who I Am\n",
      "42 Somewhere\n",
      "43 Stand My Ground\n",
      "44 The Cross\n",
      "45 The Dance\n",
      "46 The Gatekeeper\n",
      "47 The Heart Of Everything\n",
      "48 The Howling\n",
      "49 The Other Half (Of Me)\n",
      "50 The Promise\n",
      "51 The Swan Song\n",
      "52 The Truth Beneath The Rose\n",
      "53 Towards The End\n",
      "54 What Have You Done\n",
      "55 What Have You Done (Feat. Keith Caputo)\n",
      "56 World Of Make Believe\n"
     ]
    }
   ],
   "source": [
    "# I need to make pauses to avoid blocking\n",
    "counter = 0\n",
    "\n",
    "for song in discography.keys():\n",
    "    counter += 1\n",
    "    print(counter, song)\n",
    "    time.sleep(1)\n",
    "    if counter % 10 == 0:\n",
    "        time.sleep(4)\n",
    "\n",
    "    req_announcement2 = requests.get(discography[song]['link'])\n",
    "    html_doc2 = req_announcement2.text\n",
    "    soup2 = BeautifulSoup(html_doc2, 'html.parser')\n",
    "    \n",
    "    kek2 = soup2.find_all('div', attrs={'class': ['content-text-album']})\n",
    "    if kek2 == []:\n",
    "        discography[song]['album'] = '-'\n",
    "    else:\n",
    "        discography[song]['album'] = str.strip(kek2[0].text)\n",
    "    \n",
    "    kek3 = soup2.find_all('div', attrs={'class': ['content-text-inner']})\n",
    "    if kek3 == []:\n",
    "        discography[song]['lyrics'] = '-'\n",
    "    else:\n",
    "        discography[song]['lyrics'] = str.strip(kek3[0].text)\n"
   ]
  },
  {
   "cell_type": "code",
   "execution_count": null,
   "id": "233a6788",
   "metadata": {},
   "outputs": [],
   "source": []
  },
  {
   "cell_type": "code",
   "execution_count": 6,
   "id": "7e9b9bae",
   "metadata": {},
   "outputs": [
    {
     "data": {
      "text/html": [
       "<div>\n",
       "<style scoped>\n",
       "    .dataframe tbody tr th:only-of-type {\n",
       "        vertical-align: middle;\n",
       "    }\n",
       "\n",
       "    .dataframe tbody tr th {\n",
       "        vertical-align: top;\n",
       "    }\n",
       "\n",
       "    .dataframe thead th {\n",
       "        text-align: right;\n",
       "    }\n",
       "</style>\n",
       "<table border=\"1\" class=\"dataframe\">\n",
       "  <thead>\n",
       "    <tr style=\"text-align: right;\">\n",
       "      <th></th>\n",
       "      <th>song</th>\n",
       "      <th>link</th>\n",
       "      <th>album</th>\n",
       "      <th>lyrics</th>\n",
       "    </tr>\n",
       "  </thead>\n",
       "  <tbody>\n",
       "    <tr>\n",
       "      <th>0</th>\n",
       "      <td>A Dangerous Mind</td>\n",
       "      <td>https://www.allthelyrics.com/lyrics/within_tem...</td>\n",
       "      <td>Album: The Silent Force</td>\n",
       "      <td>I'm searching for answers\\ncause something is ...</td>\n",
       "    </tr>\n",
       "    <tr>\n",
       "      <th>1</th>\n",
       "      <td>All I Need</td>\n",
       "      <td>https://www.allthelyrics.com/lyrics/within_tem...</td>\n",
       "      <td>Album: Heart Of Everything</td>\n",
       "      <td>All I Need\\nI'm dying to catch my breath\\nOh w...</td>\n",
       "    </tr>\n",
       "    <tr>\n",
       "      <th>2</th>\n",
       "      <td>Angels</td>\n",
       "      <td>https://www.allthelyrics.com/lyrics/within_tem...</td>\n",
       "      <td>Album: The Silent Force</td>\n",
       "      <td>Sparkling Angel\\nI Believe\\nYou Are My Saviour...</td>\n",
       "    </tr>\n",
       "    <tr>\n",
       "      <th>3</th>\n",
       "      <td>Another Day</td>\n",
       "      <td>https://www.allthelyrics.com/lyrics/within_tem...</td>\n",
       "      <td>Album: The Dance</td>\n",
       "      <td>I know you're going away\\nI take my love into ...</td>\n",
       "    </tr>\n",
       "    <tr>\n",
       "      <th>4</th>\n",
       "      <td>Aquarius</td>\n",
       "      <td>https://www.allthelyrics.com/lyrics/within_tem...</td>\n",
       "      <td>Album: The Silent Force</td>\n",
       "      <td>I hear your whispers\\nBreak the silence\\nAnd i...</td>\n",
       "    </tr>\n",
       "  </tbody>\n",
       "</table>\n",
       "</div>"
      ],
      "text/plain": [
       "               song                                               link  \\\n",
       "0  A Dangerous Mind  https://www.allthelyrics.com/lyrics/within_tem...   \n",
       "1        All I Need  https://www.allthelyrics.com/lyrics/within_tem...   \n",
       "2            Angels  https://www.allthelyrics.com/lyrics/within_tem...   \n",
       "3       Another Day  https://www.allthelyrics.com/lyrics/within_tem...   \n",
       "4          Aquarius  https://www.allthelyrics.com/lyrics/within_tem...   \n",
       "\n",
       "                        album  \\\n",
       "0     Album: The Silent Force   \n",
       "1  Album: Heart Of Everything   \n",
       "2     Album: The Silent Force   \n",
       "3            Album: The Dance   \n",
       "4     Album: The Silent Force   \n",
       "\n",
       "                                              lyrics  \n",
       "0  I'm searching for answers\\ncause something is ...  \n",
       "1  All I Need\\nI'm dying to catch my breath\\nOh w...  \n",
       "2  Sparkling Angel\\nI Believe\\nYou Are My Saviour...  \n",
       "3  I know you're going away\\nI take my love into ...  \n",
       "4  I hear your whispers\\nBreak the silence\\nAnd i...  "
      ]
     },
     "execution_count": 6,
     "metadata": {},
     "output_type": "execute_result"
    }
   ],
   "source": [
    "discography_df = pd.DataFrame.from_dict({(i): discography[i] \n",
    "                           for i in discography.keys()},\n",
    "                       orient='index')\n",
    "# discography_df\n",
    "\n",
    "discography_df_2 = discography_df.reset_index().rename(columns={'index':'song'})\n",
    "discography_df_2.head()\n"
   ]
  },
  {
   "cell_type": "code",
   "execution_count": 8,
   "id": "83412fa6",
   "metadata": {},
   "outputs": [],
   "source": [
    "# song_txt = discography_df_2[discography_df_2['song'] == song_title]['lyrics'].iloc[0]\n",
    "# song_txt"
   ]
  },
  {
   "cell_type": "code",
   "execution_count": 7,
   "id": "66db55b3",
   "metadata": {},
   "outputs": [],
   "source": [
    "# url = 'https://www.allthelyrics.com/lyrics/florence_the_machine/no_light_no_light-lyrics-1370537.html'\n",
    "# req_announcement = requests.get(url)\n",
    "# html_doc = req_announcement.text\n",
    "# print(html_doc)\n"
   ]
  },
  {
   "cell_type": "code",
   "execution_count": null,
   "id": "bc9de8a7",
   "metadata": {},
   "outputs": [],
   "source": []
  },
  {
   "cell_type": "code",
   "execution_count": 8,
   "id": "03f602b5",
   "metadata": {},
   "outputs": [],
   "source": [
    "discography_df_2.to_csv('discography/' + artist + '_discography_allthelyrics.csv', sep='\\t', encoding='utf-8', index=False)\n"
   ]
  },
  {
   "cell_type": "code",
   "execution_count": null,
   "id": "d3b5ae6a",
   "metadata": {},
   "outputs": [],
   "source": []
  },
  {
   "cell_type": "code",
   "execution_count": 7,
   "id": "37b1e4de",
   "metadata": {},
   "outputs": [
    {
     "data": {
      "text/plain": [
       "album\n",
       "Album: Enter                     7\n",
       "Album: Heart Of Everything      13\n",
       "Album: Memories                  1\n",
       "Album: Mother Earth             13\n",
       "Album: Mother Earth [SINGLE]     3\n",
       "Album: Single Angels             1\n",
       "Album: The Dance                 3\n",
       "Album: The Silent Force         15\n",
       "Name: song, dtype: int64"
      ]
     },
     "execution_count": 7,
     "metadata": {},
     "output_type": "execute_result"
    }
   ],
   "source": [
    "albums = discography_df_2[['album','song']].groupby(['album'])['song'].count()\n",
    "albums"
   ]
  },
  {
   "cell_type": "code",
   "execution_count": null,
   "id": "a04766c8",
   "metadata": {},
   "outputs": [],
   "source": []
  },
  {
   "cell_type": "code",
   "execution_count": null,
   "id": "6d617fc4",
   "metadata": {},
   "outputs": [],
   "source": []
  }
 ],
 "metadata": {
  "kernelspec": {
   "display_name": "Python 3 (ipykernel)",
   "language": "python",
   "name": "python3"
  },
  "language_info": {
   "codemirror_mode": {
    "name": "ipython",
    "version": 3
   },
   "file_extension": ".py",
   "mimetype": "text/x-python",
   "name": "python",
   "nbconvert_exporter": "python",
   "pygments_lexer": "ipython3",
   "version": "3.11.1"
  }
 },
 "nbformat": 4,
 "nbformat_minor": 5
}
