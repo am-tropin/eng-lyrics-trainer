{
 "cells": [
  {
   "cell_type": "code",
   "execution_count": 6,
   "id": "76f0f93d",
   "metadata": {},
   "outputs": [],
   "source": [
    "import os\n",
    "import re"
   ]
  },
  {
   "cell_type": "code",
   "execution_count": null,
   "id": "bb97bd19",
   "metadata": {},
   "outputs": [],
   "source": []
  },
  {
   "cell_type": "markdown",
   "id": "9b76a834",
   "metadata": {},
   "source": [
    "# 1. To list all artist anf their songs"
   ]
  },
  {
   "cell_type": "code",
   "execution_count": 5,
   "id": "daad5e9e",
   "metadata": {},
   "outputs": [
    {
     "name": "stdout",
     "output_type": "stream",
     "text": [
      "['doors_discography_allthelyrics.csv', 'guns_n_roses_discography_allthelyrics.csv', 'queen_discography_allthelyrics.csv', 'lana_del_rey_discography_allthelyrics.csv', 'roxette_discography_allthelyrics.csv', 'elf_discography_allthelyrics.csv', 'bob_dylan_discography_allthelyrics.csv', 'within_temptation_discography_allthelyrics.csv', 'depeche_mode_discography_allthelyrics.csv', 'kasabian_discography_allthelyrics.csv', 'blondie_discography_allthelyrics.csv', 'dio_discography_allthelyrics.csv', 'franz_ferdinand_discography_allthelyrics.csv', 'queen_discography_links.csv', 'florence_the_machine_discography_allthelyrics.csv', 'imagine_dragons_discography_allthelyrics.csv', 'rainbow_discography_allthelyrics.csv', 'u2_discography_allthelyrics.csv', 'black_sabbath_discography_allthelyrics.csv', 'muse_discography_allthelyrics.csv']\n"
     ]
    }
   ],
   "source": [
    "path = \"discography/\"\n",
    "dir_list = os.listdir(path)\n",
    " \n",
    "# print(\"Files and directories in '\", path, \"' :\")\n",
    "print(dir_list)"
   ]
  },
  {
   "cell_type": "code",
   "execution_count": 7,
   "id": "d72486c3",
   "metadata": {},
   "outputs": [
    {
     "data": {
      "text/plain": [
       "['doors',\n",
       " 'guns_n_roses',\n",
       " 'queen',\n",
       " 'lana_del_rey',\n",
       " 'roxette',\n",
       " 'elf',\n",
       " 'bob_dylan',\n",
       " 'within_temptation',\n",
       " 'depeche_mode',\n",
       " 'kasabian',\n",
       " 'blondie',\n",
       " 'dio',\n",
       " 'franz_ferdinand',\n",
       " 'queen_discography_links.csv',\n",
       " 'florence_the_machine',\n",
       " 'imagine_dragons',\n",
       " 'rainbow',\n",
       " 'u2',\n",
       " 'black_sabbath',\n",
       " 'muse']"
      ]
     },
     "execution_count": 7,
     "metadata": {},
     "output_type": "execute_result"
    }
   ],
   "source": [
    "artist_list = [re.sub(\"_discography_allthelyrics.csv\", \"\", d) for d in dir_list]\n",
    "artist_list"
   ]
  },
  {
   "cell_type": "code",
   "execution_count": null,
   "id": "85ac467f",
   "metadata": {},
   "outputs": [],
   "source": []
  },
  {
   "cell_type": "code",
   "execution_count": null,
   "id": "6e5332a1",
   "metadata": {},
   "outputs": [],
   "source": []
  },
  {
   "cell_type": "code",
   "execution_count": null,
   "id": "392c9e44",
   "metadata": {},
   "outputs": [],
   "source": []
  },
  {
   "cell_type": "code",
   "execution_count": null,
   "id": "7b6dd1e3",
   "metadata": {},
   "outputs": [],
   "source": []
  },
  {
   "cell_type": "code",
   "execution_count": null,
   "id": "c866f9c5",
   "metadata": {},
   "outputs": [],
   "source": [
    "# re.sub(\"\\w|-|\\'\", \"_\", words[deleted_word_no])"
   ]
  },
  {
   "cell_type": "code",
   "execution_count": null,
   "id": "78250eb9",
   "metadata": {},
   "outputs": [],
   "source": []
  }
 ],
 "metadata": {
  "kernelspec": {
   "display_name": "Python 3 (ipykernel)",
   "language": "python",
   "name": "python3"
  },
  "language_info": {
   "codemirror_mode": {
    "name": "ipython",
    "version": 3
   },
   "file_extension": ".py",
   "mimetype": "text/x-python",
   "name": "python",
   "nbconvert_exporter": "python",
   "pygments_lexer": "ipython3",
   "version": "3.11.1"
  }
 },
 "nbformat": 4,
 "nbformat_minor": 5
}
